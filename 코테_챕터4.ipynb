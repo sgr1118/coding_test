{
  "nbformat": 4,
  "nbformat_minor": 0,
  "metadata": {
    "colab": {
      "provenance": [],
      "authorship_tag": "ABX9TyNwsD/i7RVWbWUCMtCXHcXv",
      "include_colab_link": true
    },
    "kernelspec": {
      "name": "python3",
      "display_name": "Python 3"
    },
    "language_info": {
      "name": "python"
    }
  },
  "cells": [
    {
      "cell_type": "markdown",
      "metadata": {
        "id": "view-in-github",
        "colab_type": "text"
      },
      "source": [
        "<a href=\"https://colab.research.google.com/github/sgr1118/coding_test/blob/main/%EC%BD%94%ED%85%8C_%EC%B1%95%ED%84%B04.ipynb\" target=\"_parent\"><img src=\"https://colab.research.google.com/assets/colab-badge.svg\" alt=\"Open In Colab\"/></a>"
      ]
    },
    {
      "cell_type": "markdown",
      "source": [
        "# chapter 04 : 단순 연결 리스트\n",
        "\n",
        "### Section 01 : 단순 연결 리스트의 기본\n",
        "\n",
        "##### 1. 단순 연결 리스트의 개념\n",
        "- 기존 선형리스트에서는 데이터를 중간에 삽입하기 위해 다음 순서 데이터들을 이동시키는 작업이 필요했다. 만약 데이터가 많은 경우 이런 작업을 거치면 오버헤드가 발생한다. 이런 문제를 해결하는 것이 단순 연결 리스트이다.\n",
        "\n",
        "##### 2. 단순 연결 리스트의 원리\n",
        "- 단순 연결 리스트를 구현하기 위해 '노드'개념을 알아야한다.\n",
        "\n",
        "노드 구조\n",
        "- 선형 리스트는 배열에 순서대로 저장되기 때문에 데이터만 있으면 되지만 단순 연결 리스트는 다음 데이터를 가리키는 링크가 필요하다. 단순 연결 리스트에는 첫 번째 노드를 가리키는 헤드를 사용한다. 단순 연결 리스트가 한쪽 방향으로만 진행되어 다음 노드로는 찾아가지만 이전 노드로는 돌아 갈 수 없다. 이때 헤드를 이용하면 처음부터 다시 진행이 가능하다."
      ],
      "metadata": {
        "id": "CsF2gO6Xahr-"
      }
    },
    {
      "cell_type": "markdown",
      "source": [
        "### Section 02 : 단순 연결 리스트의 간단 구현\n",
        "\n",
        "1. 노드 생성과 연결\n",
        "- 단순 연결 리스트를 구현하려면 먼저 노드를 구현해야 한다. 노드는 파이썬 문법 중 class를 사용해서 구현할 수 있다.\n",
        "\n",
        "노드생성\n",
        "- 파이썬에는 정수형, 실수형, 문자형 등 데이터 형식만 있을 뿐 노드 모양의 데이터형은 없다. 그래서 클래스 문법을 사용하여 다음과 같이 Node 데이터형을 정의한다."
      ],
      "metadata": {
        "id": "71MUE3-4dCxY"
      }
    },
    {
      "cell_type": "code",
      "execution_count": 1,
      "metadata": {
        "id": "XrGeQxKkZtdu"
      },
      "outputs": [],
      "source": [
        "# 노드 구현\n",
        "\n",
        "class Node():\n",
        "    def __init__(self):\n",
        "        self.data = None\n",
        "        self.link = None"
      ]
    },
    {
      "cell_type": "code",
      "source": [
        "# 첫 번째 노드 만들기\n",
        "\n",
        "node1 = Node()\n",
        "node1.data = '다현'\n",
        "print(node1.data, end = '')"
      ],
      "metadata": {
        "colab": {
          "base_uri": "https://localhost:8080/"
        },
        "id": "ikVCWgN7dv0e",
        "outputId": "2bb288ba-941e-4ab3-95fa-6bbcccbd1ce6"
      },
      "execution_count": 4,
      "outputs": [
        {
          "output_type": "stream",
          "name": "stdout",
          "text": [
            "다현"
          ]
        }
      ]
    },
    {
      "cell_type": "markdown",
      "source": [
        "노드 연결\n",
        "- 두 번째 노드를 생성하고 첫 번째 노드의 링크로 연결하는 코드는 다음과 같다."
      ],
      "metadata": {
        "id": "qipmD2KKeAW1"
      }
    },
    {
      "cell_type": "code",
      "source": [
        "node2 = Node()\n",
        "node2.data = '정연'\n",
        "node1.link = node2 # 첫 번째 노드의 링크에 두 번째 노드를 넣어 연결"
      ],
      "metadata": {
        "id": "ppMM_SQdeHyX"
      },
      "execution_count": 5,
      "outputs": []
    },
    {
      "cell_type": "markdown",
      "source": [
        "1. 데이터가 5개인 단순 연결 리스트 생성"
      ],
      "metadata": {
        "id": "H8o8miqteTIl"
      }
    },
    {
      "cell_type": "code",
      "source": [
        "# 데이터가 5개인 단순 연결 리스트 구현\n",
        "\n",
        "class Node():\n",
        "    def __init__(self):\n",
        "        self.data = None\n",
        "        self.link = None\n",
        "\n",
        "node1 = Node()\n",
        "node1.data = '다현'\n",
        "\n",
        "node2 = Node()\n",
        "node2.data = '정연'\n",
        "node1.link = node2 # 첫 번째 노드의 링크에 두 번째 노드를 넣어 연결\n",
        "\n",
        "node3 = Node()\n",
        "node3.data = '쯔위'\n",
        "node2.link = node3 # 주 번째 노드의 링크에 세 번째 노드를 넣어 연결\n",
        "\n",
        "node4 = Node()\n",
        "node4.data = '사나'\n",
        "node3.link = node4 # 네 번째 노드의 링크에 세 번째 노드를 넣어 연결\n",
        "\n",
        "node5 = Node()\n",
        "node5.data = '지효'\n",
        "node4.link = node5 # 다섯 번째 노드의 링크에 네 번째 노드를 넣어 연결\n",
        "\n",
        "print(node1.data, end = ' ')\n",
        "print(node1.link.data, end = ' ')\n",
        "print(node1.link.link.data, end = ' ')\n",
        "print(node1.link.link.link.data, end = ' ')\n",
        "print(node1.link.link.link.link.data, end = ' ')"
      ],
      "metadata": {
        "colab": {
          "base_uri": "https://localhost:8080/"
        },
        "id": "o6IslI6OeiX_",
        "outputId": "b20eaa90-2d3b-4d15-8046-01309d96b834"
      },
      "execution_count": 7,
      "outputs": [
        {
          "output_type": "stream",
          "name": "stdout",
          "text": [
            "다현 정연 쯔위 사나 지효 "
          ]
        }
      ]
    },
    {
      "cell_type": "code",
      "source": [
        "# 노드 연결 간소화\n",
        "\n",
        "class Node():\n",
        "    def __init__(self):\n",
        "        self.data = None\n",
        "        self.link = None\n",
        "\n",
        "node1 = Node()\n",
        "node1.data = '다현'\n",
        "\n",
        "node2 = Node()\n",
        "node2.data = '정연'\n",
        "node1.link = node2 # 첫 번째 노드의 링크에 두 번째 노드를 넣어 연결\n",
        "\n",
        "node3 = Node()\n",
        "node3.data = '쯔위'\n",
        "node2.link = node3 # 주 번째 노드의 링크에 세 번째 노드를 넣어 연결\n",
        "\n",
        "node4 = Node()\n",
        "node4.data = '사나'\n",
        "node3.link = node4 # 네 번째 노드의 링크에 세 번째 노드를 넣어 연결\n",
        "\n",
        "node5 = Node()\n",
        "node5.data = '지효'\n",
        "node4.link = node5 # 다섯 번째 노드의 링크에 네 번째 노드를 넣어 연결\n",
        "\n",
        "current = node1\n",
        "print(current.data, end = ' ')\n",
        "while current.link != None:\n",
        "    current = current.link\n",
        "    print(current.data, end = ' ')"
      ],
      "metadata": {
        "colab": {
          "base_uri": "https://localhost:8080/"
        },
        "id": "epTGVcHFfVpx",
        "outputId": "b2b793a0-9125-420f-9932-0e4e20cbe21d"
      },
      "execution_count": 8,
      "outputs": [
        {
          "output_type": "stream",
          "name": "stdout",
          "text": [
            "다현 정연 쯔위 사나 지효 "
          ]
        }
      ]
    },
    {
      "cell_type": "markdown",
      "source": [
        "3. 노드 삽입\n",
        "- 노드에 새로운 데이터를 삽입해보자"
      ],
      "metadata": {
        "id": "4nxPL3fofn9M"
      }
    },
    {
      "cell_type": "code",
      "source": [
        "# 노드 삽입\n",
        "\n",
        "class Node():\n",
        "    def __init__(self):\n",
        "        self.data = None\n",
        "        self.link = None\n",
        "\n",
        "node1 = Node()\n",
        "node1.data = '다현'\n",
        "\n",
        "node2 = Node()\n",
        "node2.data = '정연'\n",
        "node1.link = node2 # 첫 번째 노드의 링크에 두 번째 노드를 넣어 연결\n",
        "\n",
        "node3 = Node()\n",
        "node3.data = '쯔위'\n",
        "node2.link = node3 # 주 번째 노드의 링크에 세 번째 노드를 넣어 연결\n",
        "\n",
        "node4 = Node()\n",
        "node4.data = '사나'\n",
        "node3.link = node4 # 네 번째 노드의 링크에 세 번째 노드를 넣어 연결\n",
        "\n",
        "node5 = Node()\n",
        "node5.data = '지효'\n",
        "node4.link = node5 # 다섯 번째 노드의 링크에 네 번째 노드를 넣어 연결\n",
        "\n",
        "newNode = Node()\n",
        "newNode.data = '기락'\n",
        "newNode.link = node2.link # 정연의 링크\n",
        "node2.link = newNode\n",
        "\n",
        "current = node1\n",
        "print(current.data, end = ' ')\n",
        "while current.link != None:\n",
        "    current = current.link\n",
        "    print(current.data, end = ' ')"
      ],
      "metadata": {
        "colab": {
          "base_uri": "https://localhost:8080/"
        },
        "id": "J8y3ih6yfumX",
        "outputId": "4a211a75-e19f-455f-b165-0fdb662eedca"
      },
      "execution_count": 9,
      "outputs": [
        {
          "output_type": "stream",
          "name": "stdout",
          "text": [
            "다현 정연 기락 쯔위 사나 지효 "
          ]
        }
      ]
    },
    {
      "cell_type": "markdown",
      "source": [
        "4. 노드 삭제\n",
        "- 쯔위를 삭제해보자"
      ],
      "metadata": {
        "id": "Ia47yFECgRsH"
      }
    },
    {
      "cell_type": "code",
      "source": [
        "# 노드 삽입\n",
        "\n",
        "class Node():\n",
        "    def __init__(self):\n",
        "        self.data = None\n",
        "        self.link = None\n",
        "\n",
        "node1 = Node()\n",
        "node1.data = '다현'\n",
        "\n",
        "node2 = Node()\n",
        "node2.data = '정연'\n",
        "node1.link = node2 # 첫 번째 노드의 링크에 두 번째 노드를 넣어 연결\n",
        "\n",
        "node3 = Node()\n",
        "node3.data = '쯔위'\n",
        "node2.link = node3 # 주 번째 노드의 링크에 세 번째 노드를 넣어 연결\n",
        "\n",
        "node4 = Node()\n",
        "node4.data = '사나'\n",
        "node3.link = node4 # 네 번째 노드의 링크에 세 번째 노드를 넣어 연결\n",
        "\n",
        "node5 = Node()\n",
        "node5.data = '지효'\n",
        "node4.link = node5 # 다섯 번째 노드의 링크에 네 번째 노드를 넣어 연결\n",
        "\n",
        "node2.link = node3.link # 쯔위의 링크를 정연의 링크로 복사\n",
        "del(node3)\n",
        "\n",
        "current = node1\n",
        "print(current.data, end = ' ')\n",
        "while current.link != None:\n",
        "    current = current.link\n",
        "    print(current.data, end = ' ')"
      ],
      "metadata": {
        "colab": {
          "base_uri": "https://localhost:8080/"
        },
        "id": "IVVnhkpLgVTw",
        "outputId": "de946d3d-52c9-4c6c-f42c-0f1ec2e8bc29"
      },
      "execution_count": 10,
      "outputs": [
        {
          "output_type": "stream",
          "name": "stdout",
          "text": [
            "다현 정연 사나 지효 "
          ]
        }
      ]
    },
    {
      "cell_type": "markdown",
      "source": [
        "### Section 03 : 단순 연결 리스트의 일반 구현\n",
        "\n",
        "1. 단순 연결 리스트의 일반 형태\n",
        "- 실제로는 데이터 개수가 제한적이지 않은 경우가 일반적이다. 그러므로 생성되는 모든 노드를 메모리 공간에 저장한다. 책에서 head는 첫 번째 노드를 가리키고, current는 지금 처리 중인 노드를 가리키며, pre는 현재 처리 중인 노드의 바로 앞 노드를 가리킨다."
      ],
      "metadata": {
        "id": "-Xfb0-uMgl2a"
      }
    },
    {
      "cell_type": "code",
      "source": [
        "# 비어있는 memory 생성\n",
        "\n",
        "memory = []\n",
        "head, current, pre = None, None, None"
      ],
      "metadata": {
        "id": "fVpcxQWjhKS3"
      },
      "execution_count": 11,
      "outputs": []
    },
    {
      "cell_type": "markdown",
      "source": [
        "2. 배열에 저장된 데이터 입력 과정\n",
        "- 사용자가 입력하거나 배열에서 데이터를 추출한 후 값을 계속 단순 연결 리스트로 만드는 코드를 작성한다. 작동 순서는 첫 번째 데이터와 두 번째 데이터 이후 데이터로 나누어 생각해 볼 수 있다.\n",
        "\n",
        "데이터 입력 과정\n",
        "- 첫 번째 데이터는 빈 노드를 생성하고, 사용자가 키보드로 첫 번째 데이터를 입력하거나 데이터 저장소에 데이터를 가져와서 대입한다. 완성된 노드를 메모리 공간에 넣는다. 이런 방식은 node명을 여러 개 사용하지 않아도 되며, 모든 노드는 head를 시작으로 연결된다. 리고 사용자가 원하는 만큼 데이터를 넣을 수 있다."
      ],
      "metadata": {
        "id": "eXoYLfpthUK6"
      }
    },
    {
      "cell_type": "code",
      "source": [
        "# 입력 과정 코드 구현\n",
        "\n",
        "node = Node()\n",
        "node.data = dataArray[0] # 첫 번째 노드\n",
        "head = node\n",
        "memory.append(node)"
      ],
      "metadata": {
        "id": "6OxutnepiCJI"
      },
      "execution_count": null,
      "outputs": []
    },
    {
      "cell_type": "code",
      "source": [
        "# 두 번째 이후 데이터 입력\n",
        "\n",
        "pre = node\n",
        "node = Node()\n",
        "node.data = data # 두 번째 이후 노드\n",
        "preNode.link = node\n",
        "memory.append(node)"
      ],
      "metadata": {
        "id": "c0ugXqlSjxKt"
      },
      "execution_count": null,
      "outputs": []
    },
    {
      "cell_type": "markdown",
      "source": [
        "일반 단순 열결 리스트의 생성 함수 완성\n",
        "- 배열에 저장된 데이터를 모두 꺼내 단순 연결 리스트를 생성하는 코드를 작성"
      ],
      "metadata": {
        "id": "P01P2IqfkB7-"
      }
    },
    {
      "cell_type": "code",
      "source": [
        "class Node():\n",
        "    def __init__(self):\n",
        "        self.data = None\n",
        "        self.link = None\n",
        "\n",
        "def printNodes(start):\n",
        "    current = start\n",
        "    if current == None:\n",
        "        return\n",
        "    print(current.data, end = ' ')\n",
        "    while current.link != None:\n",
        "        current = current.link\n",
        "        print(current.data, end = ' ')\n",
        "    print()\n",
        "\n",
        "# 전역 변수 선언 부분\n",
        "\n",
        "memory = []\n",
        "head, current, pre = None, None, None\n",
        "dataArray = ['다현', '정연', '쯔위', '사나', '지효']\n",
        "\n",
        "# 메인 코드 부분\n",
        "if __name__ == '__main__':\n",
        "\n",
        "    node = Node() # 첫 번째 노드\n",
        "    node.data = dataArray[0]\n",
        "    head = node\n",
        "    memory.append(node)\n",
        "\n",
        "    for data in dataArray[1:]: # 두 번째 노드\n",
        "        pre = node\n",
        "        node = Node()\n",
        "        node.data = data\n",
        "        pre.link = node\n",
        "        memory.append(node)\n",
        "\n",
        "    printNodes(head)"
      ],
      "metadata": {
        "colab": {
          "base_uri": "https://localhost:8080/"
        },
        "id": "c2Edn-TtkJLG",
        "outputId": "a8c441a1-05c9-4806-f09f-c473bedc7cd0"
      },
      "execution_count": 16,
      "outputs": [
        {
          "output_type": "stream",
          "name": "stdout",
          "text": [
            "다현 정연 쯔위 사나 지효 \n"
          ]
        }
      ]
    },
    {
      "cell_type": "markdown",
      "source": [
        "3. 노드 삽입\n",
        "- 완성된 단순 연결 리스트에 노드를 삽입하는 방식 구현 (자세한 그림 설명은 교재 참고)\n",
        "\n",
        "첫 번쨰 노드 삽입\n",
        "- 맨 앞에 노드를 삽입하기 전 초기 상태\n",
        "- 새 노드를 생성\n",
        "- 새 노드의 링크로 헤드 노드가 가리키는 노드를 지정\n",
        "- 헤드 노드를 새 노드로 지정\n",
        "\n",
        "중간 노드 삽입\n",
        "- 중간 노드 삽입 전 초기 상태\n",
        "- 헤드에서 시작해서 현재 노드가 '사나'인지 확인\n",
        "- 현재 노드를 이전 노드로 저장하고, 현재 노드를 다음 노드롤 이동한다. 그리고 현재 노드가 '사나'인지 확인\n",
        "- 현재 노드가 '사나'일 때까지 2단계를 반복\n",
        "- 현재 노드가 '사나'라면 우선 새 노드를 생성한 루 새 노드의 링크를 현재 노드로 저장\n",
        "- 이전 노드의 링크를 새 노드로 지정\n",
        "\n",
        "마지막 노드 삽입\n",
        "- 마지막 노드 삽입 전 초기 상태\n",
        "- 1 ~ 3 중간 노드 삽입 과정과 동이하므로 없는 데이터인 '기락'을 찾는다.\n",
        "- 마지막 노드까지 '기락'을 찾지 못했다면 우선 새 노드를 생성한 후 현재 노드의 링크를 새 노드 지정한다.\n",
        "\n",
        "노드 삽입 함수의 환성"
      ],
      "metadata": {
        "id": "7dDzXBeplKKF"
      }
    },
    {
      "cell_type": "code",
      "source": [
        "# 클래스의 함수 선언 부분\n",
        "\n",
        "class Node():\n",
        "    def __init__(self):\n",
        "        self.data = None\n",
        "        self.link = None\n",
        "\n",
        "def printNodes(start):\n",
        "    current = start\n",
        "    if current == None:\n",
        "        return\n",
        "    print(current.data, end = ' ')\n",
        "    while current.link != None:\n",
        "        current = current.link\n",
        "        print(current.data, end = ' ')\n",
        "    print()\n",
        "\n",
        "def insertNode(findData, insertData):\n",
        "    global memory, head, current, pre\n",
        "\n",
        "    if head.data == findData: # 첫 번째 노드 삽입\n",
        "        node = Node()\n",
        "        node.data = insertData\n",
        "        node.link = head\n",
        "        head = node\n",
        "        return\n",
        "\n",
        "    current = head\n",
        "    while current.link != None: # 중간 노드 삽입\n",
        "        pre = current\n",
        "        current = current.link\n",
        "        if current.data == findData:\n",
        "            node = Node()\n",
        "            node.data = insertData\n",
        "            node.link = current\n",
        "            pre.link = node\n",
        "            return\n",
        "\n",
        "    node = Node() # 마지막 노드 삽입\n",
        "    node.data = insertData\n",
        "    current.link = node\n",
        "\n",
        "# 전역 변수 선언 부분\n",
        "\n",
        "memory = []\n",
        "head, current, pre = None, None, None\n",
        "dataArray = ['다현', '정연', '쯔위', '사나', '지효']\n",
        "\n",
        "# 메인 코드 부분\n",
        "\n",
        "if __name__ == '__main__':\n",
        "\n",
        "    node = Node() # 첫 번째 노드\n",
        "    node.data = dataArray[0]\n",
        "    head = node\n",
        "    memory.append(node)\n",
        "\n",
        "    for data in dataArray[1:]: # 두 번째 노드\n",
        "        pre = node\n",
        "        node = Node()\n",
        "        node.data = data\n",
        "        pre.link = node\n",
        "        memory.append(node)\n",
        "\n",
        "    printNodes(head)\n",
        "\n",
        "    insertNode('다현', '화사')\n",
        "    printNodes(head)\n",
        "\n",
        "    insertNode('사나', '솔라')\n",
        "    printNodes(head)\n",
        "\n",
        "    insertNode('기락', '문별')\n",
        "    printNodes(head)"
      ],
      "metadata": {
        "colab": {
          "base_uri": "https://localhost:8080/"
        },
        "id": "TtzR3qIInzxJ",
        "outputId": "e957e704-0009-4d78-a136-26b5bca2334c"
      },
      "execution_count": 20,
      "outputs": [
        {
          "output_type": "stream",
          "name": "stdout",
          "text": [
            "다현 정연 쯔위 사나 지효 \n",
            "화사 다현 정연 쯔위 사나 지효 \n",
            "화사 다현 정연 쯔위 솔라 사나 지효 \n",
            "화사 다현 정연 쯔위 솔라 사나 지효 문별 \n"
          ]
        }
      ]
    },
    {
      "cell_type": "markdown",
      "source": [
        "4. 노드 삭제\n",
        "- 완성된 단순 연결 리스트에 노드를 삭제하는 방식 구현 (자세한 그림 설명은 교재 참고)\n",
        "\n",
        "첫 번쨰 노드 삭제\n",
        "- 노드 삭제 전 초기 상태\n",
        "- 현재 노드를 삭제할 노드인 헤드와 동일하게 만든다\n",
        "- 헤드를 삭제할 노드의 링크가 가리키던 '정연'노드로 변경된다.\n",
        "- 현재 노드를 메모리에서 제거한다.\n",
        "\n",
        "첫 번째 외 노드 삭제\n",
        "- 노드 삭제 전 초기 상태\n",
        "- 헤드에서 시작해서 현재 노드가 '쯔위'인지 확인\n",
        "- 현재 노드를 이전 노드로 저장하고, 현재 노드를 다음 노드로 이동한다. 그리고 현재 노드가 '쯔위'인지 확인\n",
        "- 현재 노드가 '쯔위'일 때까지 2단계를 반복\n",
        "- 현재 노드가 '쯔위'라면, 이전 노드의 링크를 현재 노드의 링크로 지정한다.\n",
        "- 현재 노드를 메모리에서 삭제한다.\n",
        "\n",
        "노드 삭제 함수의 환성"
      ],
      "metadata": {
        "id": "NCm8E0oDsNIC"
      }
    },
    {
      "cell_type": "code",
      "source": [
        "# 클래스의 함수 선언 부분\n",
        "\n",
        "class Node():\n",
        "    def __init__(self):\n",
        "        self.data = None\n",
        "        self.link = None\n",
        "\n",
        "def printNodes(start):\n",
        "    current = start\n",
        "    if current == None:\n",
        "        return\n",
        "    print(current.data, end = ' ')\n",
        "    while current.link != None:\n",
        "        current = current.link\n",
        "        print(current.data, end = ' ')\n",
        "    print()\n",
        "\n",
        "def deleteNode(deleteData):\n",
        "    global memory, head, current, pre\n",
        "\n",
        "    if head.data == deleteData: # 첫 번째 노드 삭제\n",
        "        current = head\n",
        "        head = head.link\n",
        "        del(current)\n",
        "        return\n",
        "\n",
        "    current = head # 첫 번째 외 노드 삭제\n",
        "    while current.link != None:\n",
        "        pre = current\n",
        "        current = current.link\n",
        "        if current.data == deleteData:\n",
        "            pre.link = current.link\n",
        "            del(current)\n",
        "            return\n",
        "\n",
        "# 전역 변수 선언 부분\n",
        "\n",
        "memory = []\n",
        "head, current, pre = None, None, None\n",
        "dataArray = ['다현', '정연', '쯔위', '사나', '지효']\n",
        "\n",
        "# 메인 코드 부분\n",
        "\n",
        "if __name__ == '__main__':\n",
        "\n",
        "    node = Node() # 첫 번째 노드\n",
        "    node.data = dataArray[0]\n",
        "    head = node\n",
        "    memory.append(node)\n",
        "\n",
        "    for data in dataArray[1:]: # 두 번째 노드\n",
        "        pre = node\n",
        "        node = Node()\n",
        "        node.data = data\n",
        "        pre.link = node\n",
        "        memory.append(node)\n",
        "\n",
        "    printNodes(head)\n",
        "\n",
        "    deleteNode('다현')\n",
        "    printNodes(head)\n",
        "\n",
        "    deleteNode('쯔위')\n",
        "    printNodes(head)\n",
        "\n",
        "    deleteNode('지효')\n",
        "    printNodes(head)\n",
        "\n",
        "    deleteNode('재남')\n",
        "    printNodes(head)"
      ],
      "metadata": {
        "colab": {
          "base_uri": "https://localhost:8080/"
        },
        "id": "w7ARkUtjtQu1",
        "outputId": "ea54b903-e1e2-41ed-9263-63a0046bd3d4"
      },
      "execution_count": 21,
      "outputs": [
        {
          "output_type": "stream",
          "name": "stdout",
          "text": [
            "다현 정연 쯔위 사나 지효 \n",
            "정연 쯔위 사나 지효 \n",
            "정연 사나 지효 \n",
            "정연 사나 \n",
            "정연 사나 \n"
          ]
        }
      ]
    },
    {
      "cell_type": "code",
      "source": [
        "# self study 4-1\n",
        "\n",
        "# 클래스의 함수 선언 부분\n",
        "\n",
        "class Node():\n",
        "    def __init__(self):\n",
        "        self.data = None\n",
        "        self.link = None\n",
        "\n",
        "def printNodes(start):\n",
        "    current = start\n",
        "    if current == None:\n",
        "        return\n",
        "    print(current.data, end = ' ')\n",
        "    while current.link != None:\n",
        "        current = current.link\n",
        "        print(current.data, end = ' ')\n",
        "    print()\n",
        "\n",
        "def deleteNode(deleteData):\n",
        "    global memory, head, current, pre\n",
        "\n",
        "    if head.data == deleteData: # 첫 번째 노드 삭제\n",
        "        current = head\n",
        "        head = head.link\n",
        "        del(current)\n",
        "        print('# 첫 노드가 삭제됨 #')\n",
        "        return\n",
        "\n",
        "    current = head # 첫 번째 외 노드 삭제\n",
        "    while current.link != None:\n",
        "        pre = current\n",
        "        current = current.link\n",
        "        if current.data == deleteData:\n",
        "            pre.link = current.link\n",
        "            del(current)\n",
        "            print('# 중간 노드가 삭제됨 #')\n",
        "            return\n",
        "            \n",
        "# 전역 변수 선언 부분\n",
        "\n",
        "memory = []\n",
        "head, current, pre = None, None, None\n",
        "dataArray = ['다현', '정연', '쯔위', '사나', '지효']\n",
        "\n",
        "# 메인 코드 부분\n",
        "\n",
        "if __name__ == '__main__':\n",
        "\n",
        "    node = Node() # 첫 번째 노드\n",
        "    node.data = dataArray[0]\n",
        "    head = node\n",
        "    memory.append(node)\n",
        "\n",
        "    for data in dataArray[1:]: # 두 번째 노드\n",
        "        pre = node\n",
        "        node = Node()\n",
        "        node.data = data\n",
        "        pre.link = node\n",
        "        memory.append(node)\n",
        "\n",
        "    printNodes(head)\n",
        "\n",
        "    deleteNode('다현')\n",
        "    printNodes(head)\n",
        "\n",
        "    deleteNode('쯔위')\n",
        "    printNodes(head)\n",
        "\n",
        "    deleteNode('지효')\n",
        "    printNodes(head)\n",
        "\n",
        "    deleteNode('재남')\n",
        "    printNodes(head)"
      ],
      "metadata": {
        "colab": {
          "base_uri": "https://localhost:8080/"
        },
        "id": "JbAMxvoXuSHj",
        "outputId": "757b3afa-038b-4193-c86d-3e2c40a14550"
      },
      "execution_count": 23,
      "outputs": [
        {
          "output_type": "stream",
          "name": "stdout",
          "text": [
            "다현 정연 쯔위 사나 지효 \n",
            "# 첫 노드가 삭제됨 #\n",
            "정연 쯔위 사나 지효 \n",
            "# 중간 노드가 삭제됨 #\n",
            "정연 사나 지효 \n",
            "# 중간 노드가 삭제됨 #\n",
            "정연 사나 \n",
            "정연 사나 \n"
          ]
        }
      ]
    },
    {
      "cell_type": "markdown",
      "source": [
        "5. 노드 검색\n",
        "- 완성된 단순 연결 리스트에서 노드를 검색하는 방식을 구현해보자. 검색할 데이터의 노드를 반환하는 방식으로 처리한다. (그림 설명은 교재 참고)\n",
        "\n",
        "- 현재 노드를 첫 번째 노드인 헤드와 동일하게 만들고, 현재 노드가 검색할 데이터인지 비교한다. 검색할 데이터와 동일하다면 현재 노드를 반환한다.\n",
        "- 현재 노드를 다음 노드로 이동하고, 검색할 데이터와 동일하다면 현재 노드를 반환한다.\n",
        "- 앞의 2단계를 끝까지 진행하고, 검색할 데이터를 찾지 못했다면 None을 반환"
      ],
      "metadata": {
        "id": "_OGuNII6u0eU"
      }
    },
    {
      "cell_type": "code",
      "source": [
        "# 노드 검색 구현\n",
        "\n",
        "class Node():\n",
        "    def __init__(self):\n",
        "        self.data = None\n",
        "        self.link = None\n",
        "\n",
        "def printNodes(start):\n",
        "    current = start\n",
        "    if current == None:\n",
        "        return\n",
        "    print(current.data, end = ' ')\n",
        "    while current.link != None:\n",
        "        current = current.link\n",
        "        print(current.data, end = ' ')\n",
        "    print()\n",
        "\n",
        "def findNode(findData):\n",
        "    global memory, head, current, pre\n",
        "\n",
        "    current = head\n",
        "\n",
        "    if head.data == findData:\n",
        "        return current\n",
        "    while current.link != None:\n",
        "        current = current.link\n",
        "        if current.data == findData:\n",
        "            return current\n",
        "    return Node() # 빈 노드 반환\n",
        "\n",
        "# 전역 변수 선언 부분\n",
        "\n",
        "memory = []\n",
        "head, current, pre = None, None, None\n",
        "dataArray = ['다현', '정연', '쯔위', '사나', '지효']\n",
        "\n",
        "# 메인 코드 부분\n",
        "\n",
        "if __name__ == '__main__':\n",
        "\n",
        "    node = Node() # 첫 번째 노드\n",
        "    node.data = dataArray[0]\n",
        "    head = node\n",
        "    memory.append(node)\n",
        "\n",
        "    for data in dataArray[1:]: # 두 번째 노드\n",
        "        pre = node\n",
        "        node = Node()\n",
        "        node.data = data\n",
        "        pre.link = node\n",
        "        memory.append(node)\n",
        "\n",
        "    printNodes(head)\n",
        "\n",
        "    fNode = findNode('다현')\n",
        "    print(fNode.data)\n",
        "\n",
        "    fNode = findNode('쯔위')\n",
        "    print(fNode.data)\n",
        "\n",
        "    fNode = findNode('기락')\n",
        "    print(fNode.data)"
      ],
      "metadata": {
        "colab": {
          "base_uri": "https://localhost:8080/"
        },
        "id": "2rEk0nP1vZfh",
        "outputId": "587c0819-6b52-4a7f-a7fa-f6af4c29c9f0"
      },
      "execution_count": 25,
      "outputs": [
        {
          "output_type": "stream",
          "name": "stdout",
          "text": [
            "다현 정연 쯔위 사나 지효 \n",
            "다현\n",
            "쯔위\n",
            "None\n"
          ]
        }
      ]
    },
    {
      "cell_type": "markdown",
      "source": [
        "### Section 04 : 단순 연결 리스트의 응용\n",
        "- 단순 연결 리스트를 응요하는 프로그램 작성하기 (명함 관리)\n",
        "\n",
        "- 입력할 데이터를 2차원 배열에 저장\n",
        "- 데이터를 차례대로 가져온다. 먼저 '지민'을 단순 연결 리스트로 생성하자. 헤드가 비어 있을 때는 헤드에 첫 노드를 지정한다.\n",
        "- 두 번째 '정국'을 대입한다. 새로운 데이터가 첫 노드보다 작다면 새 노드의 링크에 첫 노드를 입력하고, 헤드에는 새 노드를 지정한다.\n",
        "- 다음으로 '뷔'를 대입한다. 역시 새로운 데이터가 첫 노드보다 작다면 새 노드의 링크에 첫 노드를 입력하고, 헤드에는 새 노드를 지정한다.\n",
        "- 다음으로 '슈가'를 입력한다. 슈가는 첫 노드보다 크기 때문에 중간에 삽입된다. 현재 노드와 이전 노드를 이용해서 현재 노드가 슈가보다 크다면 이전 노드 링크를 '슈가'로 지정하고, 슈가 노드의 링크를 현재 노드로 지정한다.\n",
        "- 마지막으로 진을 입력한다. 진은 마지막 노드보다 크므로 마지막에 추가한다."
      ],
      "metadata": {
        "id": "FC143AQzxxBo"
      }
    },
    {
      "cell_type": "code",
      "source": [
        "# 클래스의 함수 선언 부분\n",
        "\n",
        "class Node():\n",
        "    def __init__(self):\n",
        "        self.data = None\n",
        "        self.link = None\n",
        "\n",
        "def printNodes(start):\n",
        "    current = start\n",
        "    if current == None:\n",
        "        return\n",
        "    print(current.data, end = ' ')\n",
        "    while current.link != None:\n",
        "        current = current.link\n",
        "        print(current.data, end = ' ')\n",
        "    print()\n",
        "\n",
        "def makeSimpleLinkedList(namePhone):\n",
        "    global memory, head, current, pre\n",
        "    printNodes(head)\n",
        "\n",
        "    node = Node()\n",
        "    node.data = namePhone\n",
        "    memory.append(node)\n",
        "    if head == None: # 첫 번째 노드일 때\n",
        "        head = node\n",
        "        return\n",
        "\n",
        "    if head.data[0] > namePhone[0]: # 첫 번째 노드보다 작을 때\n",
        "        node.link = head\n",
        "        head = node\n",
        "        return\n",
        "\n",
        "    # 중간 노드로 삽입하는 경우\n",
        "    current = head\n",
        "    while current.link != None:\n",
        "        pre = current\n",
        "        current = current.link\n",
        "        if current.data[0] > namePhone[0]:\n",
        "            pre.link = node\n",
        "            node.link = current\n",
        "            return\n",
        "\n",
        "    # 삽입하는 노드가 가장 큰 경우\n",
        "    current.link = node\n",
        "\n",
        "# 전력 변수 선언 부분\n",
        "memory = []\n",
        "head, current, pre = None, None, None\n",
        "dataArray = [['지민', '010-1111-1111'], ['정국', '010-2222-2222'], ['뷔', '010-3333-3333'], ['슈가', '010-4444-4444'], ['진', '010-5555-5555']]\n",
        "\n",
        "# 메인 코드 부분\n",
        "if __name__ == '__main__':\n",
        "    for data in dataArray:\n",
        "        makeSimpleLinkedList(data)\n",
        "\n",
        "    printNodes(head)"
      ],
      "metadata": {
        "colab": {
          "base_uri": "https://localhost:8080/"
        },
        "id": "n5kH2WSh_ipV",
        "outputId": "9445e725-9751-41c1-8fc3-0e8d388ab202"
      },
      "execution_count": 27,
      "outputs": [
        {
          "output_type": "stream",
          "name": "stdout",
          "text": [
            "['지민', '010-1111-1111'] \n",
            "['정국', '010-2222-2222'] ['지민', '010-1111-1111'] \n",
            "['뷔', '010-3333-3333'] ['정국', '010-2222-2222'] ['지민', '010-1111-1111'] \n",
            "['뷔', '010-3333-3333'] ['슈가', '010-4444-4444'] ['정국', '010-2222-2222'] ['지민', '010-1111-1111'] \n",
            "['뷔', '010-3333-3333'] ['슈가', '010-4444-4444'] ['정국', '010-2222-2222'] ['지민', '010-1111-1111'] ['진', '010-5555-5555'] \n"
          ]
        }
      ]
    },
    {
      "cell_type": "markdown",
      "source": [
        "# 연습문제\n",
        "\n",
        "1. (1), (2)에 들어갈 용어는\n",
        "- (1)는(은) 배열에 대한 데이터를 차례대로 저장하므로 데이터의 실제 위치 순서로 데이터가 구성괸다. (2)에서는 데이터를 노드 단위로 삽입/삭제한다.\n",
        "- (1) : 선형 리스트, (2) : 단순 연결 리스트\n",
        "\n",
        "2. 선형 리스트와 비교한 단순 연결 리스트에 대한 설명이다. 거리가 먼 것은?\n",
        "- (1) 물리적으로 연결되어 있지 않은 데이터가 연결된다.\n",
        "- (2) 연결을 위한 링크가 필요하다.\n",
        "- (3) 중간에 새로운 데이터를 삽입할 때는 비효율적이다. : 오답이다. 선형 리스트에 대한 설명이다.\n",
        "- (4) 노드를 사용해서 데이터를 표현한다.\n",
        "\n",
        "3. 노드 구조에서 a, b를 무엇이라고 하는지 다음 중에서 고르시오.\n",
        "- a : 데이터, b : 링크\n",
        "\n",
        "4, 5, 6, 7번은 밑에 코드 풀이 참조\n",
        "\n",
        "8. 선형 리스트로 구현할 수 있는 응용 분야는?\n",
        "- 다항식"
      ],
      "metadata": {
        "id": "pACjJ9X7BX30"
      }
    },
    {
      "cell_type": "code",
      "source": [
        "# 연습문제 4번 노드생성 연결 코드 순서 맞추기\n",
        "\n",
        "# 노드 구현\n",
        "\n",
        "class Node():\n",
        "    def __init__(self):\n",
        "        self.data = None\n",
        "        self.link = None\n",
        "\n",
        "node1 = Node()\n",
        "node1.data = '다현'\n",
        "\n",
        "node2 = Node()\n",
        "node2.data = '정연'\n",
        "node1.link = node2 # 첫 번째 노드의 링크에 두 번째 노드를 넣어 연결\n",
        "\n",
        "print(node1.data, end = ' ')\n",
        "print(node1.link.data, end = ' ')"
      ],
      "metadata": {
        "colab": {
          "base_uri": "https://localhost:8080/"
        },
        "id": "leC3w_uWCc1w",
        "outputId": "3bfd00b7-6cf3-4e76-a85c-96f0042dbeda"
      },
      "execution_count": 31,
      "outputs": [
        {
          "output_type": "stream",
          "name": "stdout",
          "text": [
            "다현 정연 "
          ]
        }
      ]
    },
    {
      "cell_type": "code",
      "source": [
        "# 연습문제 5번 단순 연결 리스트의 맨 앞 데이터를 삭제하는 코드를 차례대로 나열하기\n",
        "\n",
        "current = head\n",
        "head = head.link\n",
        "del(current)"
      ],
      "metadata": {
        "id": "6UbrtP0HDVtm"
      },
      "execution_count": null,
      "outputs": []
    },
    {
      "cell_type": "code",
      "source": [
        "# 연습문제 6번 다음과 같이 코드가 작성되어 있을 때, 쯔위를 출력하는 코드로 올바른 것은?\n",
        "\n",
        "node1 = Node(); node1.data = '다현'\n",
        "node2 = Node(); node2.data = '정연' ; node1.link = node2\n",
        "node3 = Node(); node3.data = '쯔위' ; node2.link = node3\n",
        "\n",
        "print(node1.link.link.data, end = ' ')"
      ],
      "metadata": {
        "colab": {
          "base_uri": "https://localhost:8080/"
        },
        "id": "dcA5SoxQEEBs",
        "outputId": "a2515544-04ea-4474-9008-a4d6fdc624c1"
      },
      "execution_count": 33,
      "outputs": [
        {
          "output_type": "stream",
          "name": "stdout",
          "text": [
            "쯔위 "
          ]
        }
      ]
    },
    {
      "cell_type": "code",
      "source": [
        "# 연습문제 7번 단순 연결 리스트의 맨 앞에 야옹이 데이터를 삽입하는 1~3에 들어갈 코드를 다음중에서 고르시오\n",
        "\n",
        "node = Node()\n",
        "node.data = '야옹이'\n",
        "node.link = head\n",
        "head = node.data\n",
        "head"
      ],
      "metadata": {
        "colab": {
          "base_uri": "https://localhost:8080/",
          "height": 35
        },
        "id": "0Deh0DdqEkS1",
        "outputId": "3f31d1d0-0c6b-4686-f5fb-1787e2a6c815"
      },
      "execution_count": 35,
      "outputs": [
        {
          "output_type": "execute_result",
          "data": {
            "text/plain": [
              "'야옹이'"
            ],
            "application/vnd.google.colaboratory.intrinsic+json": {
              "type": "string"
            }
          },
          "metadata": {},
          "execution_count": 35
        }
      ]
    },
    {
      "cell_type": "code",
      "source": [
        "# 연습문제 8번 노드에서 데이터를 검색하는 함수다. (1)에 들어갈 코드를 작성하라\n",
        "\n",
        "def findNode(findData):\n",
        "    global memory, head, current, pre\n",
        "    current = head\n",
        "    if current.data == findData:\n",
        "        return current\n",
        "    while current.link != None:\n",
        "        if current.data == findData:\n",
        "            return current\n",
        "\n",
        "    return Node()"
      ],
      "metadata": {
        "id": "TgBhl7vuFE-s"
      },
      "execution_count": null,
      "outputs": []
    },
    {
      "cell_type": "markdown",
      "source": [
        "# 응용 예제 01 : 사용자가 입력한 정보 관리하기\n",
        "- 사용자가 이름과 이메일을 입력하면 이메일 순서대로 단순 연결 리스트를 생성하는 프로그램을 작성한다. 이름에서 그냥 enter를 누면 입력을 종료한다."
      ],
      "metadata": {
        "id": "sWUSBU0cFn_J"
      }
    },
    {
      "cell_type": "code",
      "source": [
        "# 클래스의 함수 선언 부분\n",
        "\n",
        "class Node():\n",
        "    def __init__(self):\n",
        "        self.data = None\n",
        "        self.link = None\n",
        "\n",
        "def printNodes(start):\n",
        "    current = start\n",
        "    if current == None:\n",
        "        return\n",
        "    print(current.data, end = ' ')\n",
        "    while current.link != None:\n",
        "        current = current.link\n",
        "        print(current.data, end = ' ')\n",
        "    print()\n",
        "\n",
        "def makeSimpleLinkedList(nameEmail):\n",
        "    global memory, head, current, pre\n",
        "    printNodes(head)\n",
        "\n",
        "    node = Node()\n",
        "    node.data = nameEmail\n",
        "    memory.append(node)\n",
        "    if head == None: # 첫 번째 노드\n",
        "        head = node\n",
        "        return\n",
        "\n",
        "    if head.data[1] > nameEmail[1]: # 첫 번째 노드보다 작을 때\n",
        "        node.link = head\n",
        "        head = node\n",
        "        return\n",
        "\n",
        "    # 중간 노드로 삽입하는 경우\n",
        "    current = head\n",
        "    while current.link != None:\n",
        "        pre = current\n",
        "        current = current.link\n",
        "        if current.data[1] > nameEmail[1]:\n",
        "            pre.link = node\n",
        "            node.link = current\n",
        "            return\n",
        "\n",
        "    # 삽입하는 노드가 가장 큰 경우\n",
        "    current.link = node\n",
        "\n",
        "# 전력 변수 선언 부분\n",
        "memory = []\n",
        "head, current, pre = None, None, None\n",
        "dataArray = [['지민', '010-1111-1111'], ['정국', '010-2222-2222'], ['뷔', '010-3333-3333'], ['슈가', '010-4444-4444'], ['진', '010-5555-5555']]\n",
        "\n",
        "# 메인 코드 부분\n",
        "if __name__ == '__main__':\n",
        "    while True :\n",
        "        name = input('이름 : ')\n",
        "        if name == \"\" or name == None:\n",
        "            break\n",
        "        email = input('이메일 : ')\n",
        "        makeSimpleLinkedList([name, email])\n",
        "\n",
        "        printNodes(head)"
      ],
      "metadata": {
        "id": "4JwqLpzWF1Ds"
      },
      "execution_count": null,
      "outputs": []
    },
    {
      "cell_type": "markdown",
      "source": [
        "# 응용 예제 02 : 로또 추첨하기\n",
        "- 1~45 숫자 6개를 뽑는 로또 추첨 프로그램을 작성한다. 뽑은 숫자는 순서대로 단순 연결 리스트로 저장한다."
      ],
      "metadata": {
        "id": "G6y4qen2Gxp_"
      }
    },
    {
      "cell_type": "code",
      "source": [
        "import random\n",
        "\n",
        "class Node():\n",
        "    def __init__(self):\n",
        "        self.data = None\n",
        "        self.link = None\n",
        "\n",
        "def printNodes(start):\n",
        "    current = start\n",
        "    if current == None:\n",
        "        return\n",
        "    print(current.data, end = ' ')\n",
        "    while current.link != None:\n",
        "        current = current.link\n",
        "        print(current.data, end = ' ')\n",
        "    print()\n",
        "\n",
        "def makeLottoList(num):\n",
        "    global memory, head, current, pre\n",
        "\n",
        "    node = Node()\n",
        "    node.data = num\n",
        "    memory.append(node)\n",
        "    if head == None : # 첫 번째 노드\n",
        "        head = node\n",
        "        return\n",
        "\n",
        "    if head.data > num :\n",
        "        node.link = head\n",
        "        head = node\n",
        "        return\n",
        "\n",
        "    current = head\n",
        "    while current.link != None:\n",
        "        pre = current\n",
        "        current = current.link\n",
        "        if current.data > num :\n",
        "            pre.link = node\n",
        "            node.link = current\n",
        "            return\n",
        "\n",
        "    current.link = node\n",
        "\n",
        "def findNumber(num):\n",
        "    global memory, head, current, pre\n",
        "\n",
        "    if head == None:\n",
        "        return False\n",
        "    current = head\n",
        "\n",
        "    if current.data == num :\n",
        "        return True\n",
        "    \n",
        "    while current.link != None:\n",
        "        current = current.link\n",
        "        if current.data == num :\n",
        "            return True\n",
        "    return False\n",
        "\n",
        "# 전역 변수 선언 부분\n",
        "\n",
        "memory = []\n",
        "head, current, head, pre\n",
        "\n",
        "# 메인 코드 부분\n",
        "\n",
        "if __name__ == '__main__' :\n",
        "    lottoCount = 0\n",
        "    while True :\n",
        "        lotto = random.randint(1, 45)\n",
        "        if findNumber(lotto) :\n",
        "            continue\n",
        "        lottoCount += 1\n",
        "        makeLottoList(lotto)\n",
        "        if lottoCount >= 6 :\n",
        "            break\n",
        "\n",
        "    printNodes(head)"
      ],
      "metadata": {
        "colab": {
          "base_uri": "https://localhost:8080/",
          "height": 374
        },
        "id": "DCd7HLrxG7oU",
        "outputId": "0cad107f-2f73-44f9-ec81-4600927d50f2"
      },
      "execution_count": 46,
      "outputs": [
        {
          "output_type": "error",
          "ename": "TypeError",
          "evalue": "ignored",
          "traceback": [
            "\u001b[0;31m---------------------------------------------------------------------------\u001b[0m",
            "\u001b[0;31mTypeError\u001b[0m                                 Traceback (most recent call last)",
            "\u001b[0;32m<ipython-input-46-f430632089fc>\u001b[0m in \u001b[0;36m<module>\u001b[0;34m\u001b[0m\n\u001b[1;32m     72\u001b[0m             \u001b[0;32mcontinue\u001b[0m\u001b[0;34m\u001b[0m\u001b[0;34m\u001b[0m\u001b[0m\n\u001b[1;32m     73\u001b[0m         \u001b[0mlottoCount\u001b[0m \u001b[0;34m+=\u001b[0m \u001b[0;36m1\u001b[0m\u001b[0;34m\u001b[0m\u001b[0;34m\u001b[0m\u001b[0m\n\u001b[0;32m---> 74\u001b[0;31m         \u001b[0mmakeLottoList\u001b[0m\u001b[0;34m(\u001b[0m\u001b[0mlotto\u001b[0m\u001b[0;34m)\u001b[0m\u001b[0;34m\u001b[0m\u001b[0;34m\u001b[0m\u001b[0m\n\u001b[0m\u001b[1;32m     75\u001b[0m         \u001b[0;32mif\u001b[0m \u001b[0mlottoCount\u001b[0m \u001b[0;34m>=\u001b[0m \u001b[0;36m6\u001b[0m \u001b[0;34m:\u001b[0m\u001b[0;34m\u001b[0m\u001b[0;34m\u001b[0m\u001b[0m\n\u001b[1;32m     76\u001b[0m             \u001b[0;32mbreak\u001b[0m\u001b[0;34m\u001b[0m\u001b[0;34m\u001b[0m\u001b[0m\n",
            "\u001b[0;32m<ipython-input-46-f430632089fc>\u001b[0m in \u001b[0;36mmakeLottoList\u001b[0;34m(num)\u001b[0m\n\u001b[1;32m     26\u001b[0m         \u001b[0;32mreturn\u001b[0m\u001b[0;34m\u001b[0m\u001b[0;34m\u001b[0m\u001b[0m\n\u001b[1;32m     27\u001b[0m \u001b[0;34m\u001b[0m\u001b[0m\n\u001b[0;32m---> 28\u001b[0;31m     \u001b[0;32mif\u001b[0m \u001b[0mhead\u001b[0m\u001b[0;34m.\u001b[0m\u001b[0mdata\u001b[0m \u001b[0;34m>\u001b[0m \u001b[0mnum\u001b[0m \u001b[0;34m:\u001b[0m\u001b[0;34m\u001b[0m\u001b[0;34m\u001b[0m\u001b[0m\n\u001b[0m\u001b[1;32m     29\u001b[0m         \u001b[0mnode\u001b[0m\u001b[0;34m.\u001b[0m\u001b[0mlink\u001b[0m \u001b[0;34m=\u001b[0m \u001b[0mhead\u001b[0m\u001b[0;34m\u001b[0m\u001b[0;34m\u001b[0m\u001b[0m\n\u001b[1;32m     30\u001b[0m         \u001b[0mhead\u001b[0m \u001b[0;34m=\u001b[0m \u001b[0mnode\u001b[0m\u001b[0;34m\u001b[0m\u001b[0;34m\u001b[0m\u001b[0m\n",
            "\u001b[0;31mTypeError\u001b[0m: '>' not supported between instances of 'list' and 'int'"
          ]
        }
      ]
    }
  ]
}