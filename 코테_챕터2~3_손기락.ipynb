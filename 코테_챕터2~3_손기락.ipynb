{
  "nbformat": 4,
  "nbformat_minor": 0,
  "metadata": {
    "colab": {
      "provenance": [],
      "authorship_tag": "ABX9TyMMM21E5cALZysdLIwl1BSh",
      "include_colab_link": true
    },
    "kernelspec": {
      "name": "python3",
      "display_name": "Python 3"
    },
    "language_info": {
      "name": "python"
    }
  },
  "cells": [
    {
      "cell_type": "markdown",
      "metadata": {
        "id": "view-in-github",
        "colab_type": "text"
      },
      "source": [
        "<a href=\"https://colab.research.google.com/github/sgr1118/coding_test/blob/main/%EC%BD%94%ED%85%8C_%EC%B1%95%ED%84%B02~3_%EC%86%90%EA%B8%B0%EB%9D%BD.ipynb\" target=\"_parent\"><img src=\"https://colab.research.google.com/assets/colab-badge.svg\" alt=\"Open In Colab\"/></a>"
      ]
    },
    {
      "cell_type": "markdown",
      "source": [
        "# chapter 02 : 파이썬 기초 문법과 데이터 형식\n",
        "\n",
        "### Section 01 : 파이썬의 기초 문법\n",
        "\n",
        "##### 1. 변수와 print() 함수\n",
        "- 변수는 어떤 값을 저장하는 메모리 공간이다. 다만 파이썬은 별도의 변수 선언은 없다. 다음 예처럼 한 행이나 여러 행에 나누어 변수에 값을 대입하는 순간 변수를 선언하는 효과가 생긴다."
      ],
      "metadata": {
        "id": "EAU95t_wPY8Z"
      }
    },
    {
      "cell_type": "code",
      "execution_count": null,
      "metadata": {
        "colab": {
          "base_uri": "https://localhost:8080/"
        },
        "id": "JKSFHGyKOO9Q",
        "outputId": "a3291379-3e07-485b-8e14-4f642754e67b"
      },
      "outputs": [
        {
          "output_type": "execute_result",
          "data": {
            "text/plain": [
              "(bool, int, float, str)"
            ]
          },
          "metadata": {},
          "execution_count": 3
        }
      ],
      "source": [
        "boolVar, intVar, floatVar, strVar = True, 0, 0.0, \"\"\n",
        "\n",
        "type(boolVar), type(intVar), type(floatVar), type(strVar)"
      ]
    },
    {
      "cell_type": "code",
      "source": [
        "# print()의 결과 예측해보기\n",
        "\n",
        "print(\"100\") # \"100\"은 숫자던 문자던 무조건 문자로 취급\n",
        "print(\"%d\" % 100) # 반면 이 값은 숫자를 의미한다. 서식 %d가 지정한 숫자는 그대로 숫자다"
      ],
      "metadata": {
        "colab": {
          "base_uri": "https://localhost:8080/"
        },
        "id": "-vfEey6UR2lG",
        "outputId": "e1ee20b0-b4ad-4d8b-c1a9-6a4a085c7020"
      },
      "execution_count": null,
      "outputs": [
        {
          "output_type": "stream",
          "name": "stdout",
          "text": [
            "100\n",
            "100\n"
          ]
        }
      ]
    },
    {
      "cell_type": "code",
      "source": [
        "# print()의 결과 예측해보기 - 2\n",
        "\n",
        "print(\"100+100\") # \"100+100\"은 숫자던 문자던 무조건 문자로 취급\n",
        "print(\"%d\" % (100+100)) # 반면 이 값은 숫자를 의미한다. 서식 %d가 지정한 숫자는 그대로 숫자다. 그래서 합한 값 200으로 나온다."
      ],
      "metadata": {
        "colab": {
          "base_uri": "https://localhost:8080/"
        },
        "id": "cErkTWJKSY5o",
        "outputId": "bf563b4f-3a7d-42c7-f9be-cc6bed8441b8"
      },
      "execution_count": null,
      "outputs": [
        {
          "output_type": "stream",
          "name": "stdout",
          "text": [
            "100+100\n",
            "200\n"
          ]
        }
      ]
    },
    {
      "cell_type": "code",
      "source": [
        "# print()의 결과 예측해보기 - 3\n",
        "\n",
        "print(\"%d\" % (100, 200)) # \"100+100\"은 숫자던 문자던 무조건 문자로 취급\n",
        "print(\"%d %d\" % (100)) # 반면 이 값은 숫자를 의미한다. 서식 %d가 지정한 숫자는 그대로 숫자다. 그래서 합한 값 200으로 나온다.\n",
        "\n",
        "# print(\"%d\" % (100, 200)에서 발생하는 에러 메시지\n",
        "# TypeError: not all arguments converted during string formatting\n",
        "\n",
        "# print(\"%d %d\" % (100))에서 발생하는 오류 메시지\n",
        "# TypeError: not enough arguments for format string"
      ],
      "metadata": {
        "id": "95ZasW7pSmVu"
      },
      "execution_count": null,
      "outputs": []
    },
    {
      "cell_type": "code",
      "source": [
        "# 위 결과를 옳바르게 수정하기\n",
        "\n",
        "print(\"%d, %d\" % (100, 200)) # 서식 %d %d로 수정하여 숫자 2개를 지정하면 해결된다.\n",
        "print(\"%d\" % (100)) # 서식을 사용할 숫자가 1개이기 때문에 %d를 1개만 입력하면 해결된다."
      ],
      "metadata": {
        "colab": {
          "base_uri": "https://localhost:8080/"
        },
        "id": "nTX8PIx4THqm",
        "outputId": "a67cdc93-1433-407b-8740-69a683a69e33"
      },
      "execution_count": null,
      "outputs": [
        {
          "output_type": "stream",
          "name": "stdout",
          "text": [
            "100, 200\n",
            "100\n"
          ]
        }
      ]
    },
    {
      "cell_type": "markdown",
      "source": [
        "##### print() 함수에서 사용할 수 있는 서식\n",
        "\n",
        "|서식|값의 예|설명|\n",
        "|---|---|---|\n",
        "|%d, %x, %o|10, 100, 1234|정수(10진수, 16진수, 8진수)|\n",
        "|%f|0.2, 1.0, 3.14, 3.14e3|실수(소수점이 붙은 수)|\n",
        "|%c|'b', '한', '파'|문자 하나로 된 글자|\n",
        "|%s|\"안녕\", 'abcdefg', \"a\"|한 글자 이상의 문자열|"
      ],
      "metadata": {
        "id": "C2o_VceITglc"
      }
    },
    {
      "cell_type": "code",
      "source": [
        "# input() 함수\n",
        "\n",
        "var1 = input()\n",
        "var2 = input()"
      ],
      "metadata": {
        "colab": {
          "base_uri": "https://localhost:8080/"
        },
        "id": "SwumwUScUkrZ",
        "outputId": "ab84f5ca-734f-40c6-9fe4-4fb01db68ae9"
      },
      "execution_count": null,
      "outputs": [
        {
          "name": "stdout",
          "output_type": "stream",
          "text": [
            "100\n",
            "200\n"
          ]
        }
      ]
    },
    {
      "cell_type": "code",
      "source": [
        "# input 함수 결과 보기\n",
        "\n",
        "print(var1 + var2) # 예상과 달리 그냥 이어붙어져서 나왔다.\n",
        "# 이유는 input은 모든 것을 문자열로 간주하기 때문이다."
      ],
      "metadata": {
        "colab": {
          "base_uri": "https://localhost:8080/"
        },
        "id": "OS5uJrkKUxWp",
        "outputId": "9d9c94f0-047f-46e9-959c-1985a314d2a6"
      },
      "execution_count": null,
      "outputs": [
        {
          "output_type": "stream",
          "name": "stdout",
          "text": [
            "100200\n"
          ]
        }
      ]
    },
    {
      "cell_type": "code",
      "source": [
        "# input 값을 숫자로 인식하게해보기\n",
        "\n",
        "var1 = int(input()) # int() 추가\n",
        "var2 = int(input())\n",
        "\n",
        "print(var1 + var2)"
      ],
      "metadata": {
        "colab": {
          "base_uri": "https://localhost:8080/"
        },
        "id": "wsoOYUdJXI8V",
        "outputId": "8a18adc0-ebd4-4b6c-be85-19757f4a5af4"
      },
      "execution_count": null,
      "outputs": [
        {
          "output_type": "stream",
          "name": "stdout",
          "text": [
            "100\n",
            "200\n",
            "300\n"
          ]
        }
      ]
    },
    {
      "cell_type": "code",
      "source": [
        "# input 함수에 설명문 추가하기\n",
        "\n",
        "var1 = int(input(\"숫자를 입력하세요 --> \"))"
      ],
      "metadata": {
        "colab": {
          "base_uri": "https://localhost:8080/"
        },
        "id": "De_FIOC-XexR",
        "outputId": "9c6f2217-4773-4211-80e1-769b9017e08a"
      },
      "execution_count": null,
      "outputs": [
        {
          "name": "stdout",
          "output_type": "stream",
          "text": [
            "숫자를 입력하세요 --> 18\n"
          ]
        }
      ]
    },
    {
      "cell_type": "markdown",
      "source": [
        "##### 2. 연산자\n",
        "\n",
        "산술 연산자\n",
        "\n",
        "|연산자|설명|사용 예|\n",
        "|---|---|---|\n",
        "|=|대입 연산자|a = 3|\n",
        "|+|더하기|a = 5+3|\n",
        "|-|빼기|a = 5-3|\n",
        "|*|곱하기|a = 5*3|\n",
        "|/|나누기|a = 5/3|\n",
        "|//|나누기(몫)|a = 5//3|\n",
        "|%|나머지 값|a = 5%3|\n",
        "|**|제곱|a = 5**3|\n",
        "\n",
        "대입 연산자\n",
        "\n",
        "|연산자|사용 예|설명|\n",
        "|---|---|---|\n",
        "|+=|a+=3|a = a+3과 동일|\n",
        "|-=|a-=3|a = a-3과 동일|\n",
        "|*=|a*=|a = a*3과 동일|\n",
        "|/=|a/=3|a = a/3과 동일|\n",
        "|//=|a//=3|a = a//3과 동일|\n",
        "|%=|a%=3|a = a%3과 동일|\n",
        "|=%|a%=3|a = a%3과 동일|\n",
        "\n",
        "관계 연산자\n",
        "- 관계 연산자(또는 비교 연산자)는 어떤 것이 크거나 작거나 같은지 비교하는 것으로 그 결과는 True / False이다. 주로 조건문이나 반복문에서 사용되며, 단독으로는 사용하지 않는다. \n",
        "\n",
        "|연산자|의미|설명|\n",
        "|---|---|---|\n",
        "|==|같다.|구 값이 동일하면 참|\n",
        "|!=|같지 않다.|두 값이 다르면 참|\n",
        "|>|크다.|왼쪽이 크면 참|\n",
        "|<|작다.|왼쪽이 작으면 참|\n",
        "|>=|크거나 같다.|왼쪽이 크거나 같으면 참|\n",
        "|<=|작거나 같다.|왼쪽이 작거나 같으면 참|\n"
      ],
      "metadata": {
        "id": "74o02UYzXuc4"
      }
    },
    {
      "cell_type": "markdown",
      "source": [
        "##### 3. 조건문\n",
        "\n",
        "기본 if문\n",
        "- \"만약 ~라면\"으로 해석할 수 있다. \n",
        "\n",
        "![](https://images.velog.io/images/foeverna/post/e5c7858f-76ce-4d60-9794-f2b383ce14e1/awef21.png)\n",
        "<center>if 문의 형식과 순서</center>"
      ],
      "metadata": {
        "id": "VH6vwWtcbGf9"
      }
    },
    {
      "cell_type": "code",
      "source": [
        "# if문 예시\n",
        "\n",
        "a = 99\n",
        "\n",
        "if a < 100:\n",
        "    print(\"100보다 작군요.\")"
      ],
      "metadata": {
        "colab": {
          "base_uri": "https://localhost:8080/"
        },
        "id": "Vq7JVaxcbrQ9",
        "outputId": "06ac3aee-767c-4d9a-8f6b-3266eb53ac6f"
      },
      "execution_count": null,
      "outputs": [
        {
          "output_type": "stream",
          "name": "stdout",
          "text": [
            "100보다 작군요.\n"
          ]
        }
      ]
    },
    {
      "cell_type": "markdown",
      "source": [
        "if~else 문\n",
        "- 참일 때 실행할 문장과 거짓일 때 실행할 문장으로 다르게 사용할 경우 사용한다."
      ],
      "metadata": {
        "id": "GjfcL8_-cLKl"
      }
    },
    {
      "cell_type": "code",
      "source": [
        "# if~else문 예시\n",
        "\n",
        "a = 200\n",
        "\n",
        "if a < 100:\n",
        "    print(\"100보다 작군요.\")\n",
        "else:\n",
        "    print(\"100보다 크군요.\")"
      ],
      "metadata": {
        "colab": {
          "base_uri": "https://localhost:8080/"
        },
        "id": "F60vApxjb1h9",
        "outputId": "52dc6c21-2fab-4333-aff6-5379827fcaa3"
      },
      "execution_count": null,
      "outputs": [
        {
          "output_type": "stream",
          "name": "stdout",
          "text": [
            "100보다 크군요.\n"
          ]
        }
      ]
    },
    {
      "cell_type": "markdown",
      "source": [
        "반복문\n",
        "- 동일하게 반복하는 문장은 반복문으로 간단하게 표현이 가능하다.\n",
        "- 이런 형식으로 주로 사용한다.\n",
        "- for 변수 in range(start, end+1, 증가값):\n",
        "\n",
        "range()\n",
        "- range() 함수는 지정된 범위 값을 반환한다. range(0, 3, 1)은 0,1,2를 반환하고 range(0, 3)과도 같은 결과를 가져온다."
      ],
      "metadata": {
        "id": "ZC_WMOZtcg61"
      }
    },
    {
      "cell_type": "code",
      "source": [
        "# range 예시\n",
        "\n",
        "for i in range(0, 3, 1):\n",
        "    print(\"안녕하세요? for 문을 공부 중입니다. ^^\")\n",
        "\n",
        "# 다른 예시\n",
        "for i in [0, 1, 2]:\n",
        "    print(\"안녕하세요? for 문을 공부 중입니다. ^^\") # 위와 같은 결과를 준다."
      ],
      "metadata": {
        "colab": {
          "base_uri": "https://localhost:8080/"
        },
        "id": "42oQzhKEdJsU",
        "outputId": "b5c42350-006a-4b20-8875-22cd51945d5e"
      },
      "execution_count": null,
      "outputs": [
        {
          "output_type": "stream",
          "name": "stdout",
          "text": [
            "안녕하세요? for 문을 공부 중입니다. ^^\n",
            "안녕하세요? for 문을 공부 중입니다. ^^\n",
            "안녕하세요? for 문을 공부 중입니다. ^^\n",
            "안녕하세요? for 문을 공부 중입니다. ^^\n",
            "안녕하세요? for 문을 공부 중입니다. ^^\n",
            "안녕하세요? for 문을 공부 중입니다. ^^\n"
          ]
        }
      ]
    },
    {
      "cell_type": "markdown",
      "source": [
        "while 문\n",
        "- while 문은 반복 횟수를 결정하기보다는 조건식이 참일 때 반복하는 방식을 사용한다. 따라서 무한 루프를 사용할 수 있다.\n",
        "\n",
        "![](https://dojang.io/pluginfile.php/13600/mod_page/content/3/017001.png)\n",
        "<center>while 문</center>\n",
        "\n"
      ],
      "metadata": {
        "id": "A8ydMueseXC-"
      }
    },
    {
      "cell_type": "code",
      "source": [
        "# 무한반복되는 while문\n",
        "\n",
        "while True:\n",
        "    print(\"ㅎ\", end = \"\")"
      ],
      "metadata": {
        "colab": {
          "base_uri": "https://localhost:8080/",
          "height": 397
        },
        "id": "Lyj3zQDSfuwe",
        "outputId": "703cef9f-6fea-4c2e-8436-2c037b6c9a22"
      },
      "execution_count": null,
      "outputs": [
        {
          "output_type": "stream",
          "name": "stdout",
          "text": [
            "ㅎㅎㅎㅎㅎㅎㅎㅎㅎㅎㅎㅎㅎㅎㅎㅎㅎㅎㅎㅎㅎㅎㅎㅎㅎㅎㅎㅎㅎㅎㅎㅎㅎㅎㅎㅎㅎㅎㅎㅎㅎㅎㅎㅎㅎㅎㅎㅎㅎㅎㅎㅎㅎㅎㅎㅎㅎㅎㅎㅎㅎㅎㅎㅎㅎㅎㅎㅎㅎㅎㅎㅎㅎㅎㅎㅎㅎㅎㅎㅎㅎㅎㅎㅎㅎㅎㅎㅎㅎㅎㅎㅎㅎㅎㅎㅎㅎㅎㅎㅎㅎㅎㅎㅎㅎㅎㅎㅎㅎㅎㅎㅎㅎㅎㅎㅎㅎㅎㅎㅎㅎㅎㅎㅎㅎㅎㅎㅎㅎㅎㅎㅎㅎㅎㅎㅎㅎㅎㅎㅎㅎㅎㅎㅎㅎㅎㅎㅎㅎㅎㅎㅎㅎㅎㅎㅎㅎㅎㅎㅎㅎㅎㅎㅎㅎㅎㅎㅎㅎㅎㅎㅎㅎㅎㅎㅎㅎㅎㅎㅎㅎㅎㅎㅎㅎㅎㅎㅎㅎㅎㅎㅎㅎㅎㅎㅎㅎㅎㅎㅎㅎㅎㅎㅎㅎㅎㅎㅎㅎㅎㅎㅎㅎㅎㅎㅎㅎㅎㅎㅎㅎㅎㅎㅎㅎㅎㅎㅎㅎㅎㅎㅎㅎㅎㅎㅎㅎㅎㅎㅎㅎㅎㅎㅎㅎㅎㅎㅎㅎㅎㅎㅎㅎㅎㅎㅎㅎㅎㅎㅎㅎㅎㅎㅎㅎㅎㅎㅎㅎㅎㅎㅎㅎㅎㅎㅎㅎㅎㅎㅎㅎㅎㅎㅎㅎㅎㅎㅎㅎㅎㅎㅎㅎㅎㅎㅎㅎㅎㅎㅎㅎㅎㅎㅎㅎㅎㅎㅎㅎㅎㅎㅎㅎㅎㅎㅎㅎㅎㅎㅎㅎㅎㅎㅎㅎㅎㅎㅎㅎㅎㅎㅎㅎㅎㅎㅎㅎㅎㅎㅎㅎㅎㅎㅎㅎㅎㅎㅎㅎㅎㅎㅎㅎㅎㅎㅎㅎㅎㅎㅎㅎㅎㅎㅎㅎㅎㅎㅎㅎㅎㅎㅎㅎㅎㅎㅎㅎㅎㅎㅎㅎㅎㅎㅎㅎㅎㅎㅎㅎㅎㅎㅎㅎㅎㅎㅎㅎㅎㅎㅎㅎㅎㅎㅎㅎㅎㅎㅎㅎㅎㅎㅎㅎㅎㅎㅎㅎㅎㅎㅎㅎㅎㅎㅎㅎㅎㅎㅎㅎㅎㅎㅎㅎㅎㅎㅎㅎㅎㅎㅎㅎㅎㅎㅎㅎㅎㅎㅎㅎㅎㅎㅎㅎㅎㅎㅎㅎㅎㅎㅎㅎㅎㅎㅎㅎㅎㅎㅎㅎㅎㅎㅎㅎㅎㅎㅎㅎㅎㅎㅎㅎㅎㅎㅎㅎㅎㅎㅎㅎㅎㅎㅎㅎㅎㅎㅎㅎㅎㅎㅎㅎㅎㅎㅎㅎㅎㅎㅎㅎㅎㅎㅎㅎㅎㅎㅎㅎㅎㅎㅎㅎㅎㅎㅎㅎㅎㅎㅎㅎㅎㅎㅎㅎㅎㅎㅎㅎㅎㅎㅎㅎㅎㅎㅎㅎㅎㅎㅎㅎㅎㅎㅎㅎㅎㅎㅎㅎㅎㅎㅎㅎㅎㅎㅎㅎㅎㅎㅎㅎㅎㅎㅎㅎㅎㅎㅎㅎㅎㅎㅎㅎㅎㅎㅎㅎㅎㅎㅎㅎㅎㅎㅎㅎㅎㅎㅎㅎㅎㅎㅎㅎㅎㅎㅎㅎㅎㅎㅎㅎㅎㅎㅎㅎㅎㅎㅎㅎㅎㅎㅎㅎㅎㅎㅎㅎㅎㅎㅎㅎㅎㅎㅎㅎㅎㅎㅎㅎㅎㅎㅎㅎㅎㅎㅎㅎㅎㅎㅎㅎㅎㅎㅎㅎㅎㅎㅎㅎㅎㅎㅎㅎㅎㅎㅎㅎㅎㅎㅎㅎㅎㅎㅎㅎㅎㅎㅎㅎㅎㅎㅎㅎㅎㅎㅎㅎㅎㅎㅎㅎㅎㅎㅎㅎㅎㅎㅎㅎㅎㅎㅎㅎㅎㅎㅎㅎㅎㅎㅎㅎㅎㅎㅎㅎㅎㅎㅎㅎㅎㅎㅎㅎㅎㅎㅎㅎㅎㅎㅎㅎㅎㅎㅎㅎㅎㅎㅎㅎㅎㅎㅎㅎㅎㅎㅎㅎㅎㅎㅎㅎㅎㅎㅎㅎㅎㅎㅎㅎㅎㅎㅎㅎㅎㅎㅎㅎㅎㅎㅎㅎㅎㅎㅎㅎㅎㅎㅎㅎㅎㅎㅎㅎㅎㅎㅎㅎㅎㅎㅎㅎㅎㅎㅎㅎㅎㅎㅎㅎㅎㅎㅎㅎㅎㅎㅎㅎㅎㅎㅎㅎㅎㅎㅎㅎㅎㅎㅎㅎㅎㅎㅎㅎㅎㅎㅎㅎㅎㅎㅎㅎㅎㅎㅎㅎㅎㅎㅎㅎㅎㅎㅎㅎㅎㅎㅎㅎㅎㅎㅎㅎㅎㅎㅎㅎㅎㅎㅎㅎㅎㅎㅎㅎㅎㅎㅎㅎㅎㅎㅎㅎㅎㅎㅎㅎㅎㅎㅎㅎㅎㅎㅎㅎㅎㅎㅎㅎㅎㅎㅎㅎㅎㅎㅎㅎㅎㅎㅎㅎㅎㅎㅎㅎㅎㅎㅎㅎㅎㅎㅎㅎㅎㅎㅎㅎㅎㅎㅎㅎㅎㅎㅎㅎㅎㅎㅎㅎㅎㅎㅎㅎㅎㅎㅎㅎㅎㅎㅎㅎㅎㅎㅎㅎㅎㅎㅎㅎㅎㅎㅎㅎㅎㅎㅎㅎㅎㅎㅎㅎㅎㅎㅎㅎㅎㅎㅎㅎㅎㅎㅎㅎㅎㅎㅎㅎㅎㅎㅎㅎㅎㅎㅎㅎㅎㅎㅎㅎㅎㅎㅎㅎㅎㅎㅎㅎㅎㅎㅎㅎㅎㅎㅎㅎㅎㅎㅎㅎㅎㅎㅎㅎㅎㅎㅎㅎㅎㅎㅎㅎㅎㅎㅎㅎㅎㅎㅎㅎㅎㅎㅎㅎㅎㅎㅎㅎㅎㅎㅎㅎㅎㅎㅎㅎㅎㅎㅎㅎㅎㅎㅎㅎㅎㅎㅎㅎㅎㅎㅎㅎㅎㅎㅎㅎㅎㅎㅎㅎㅎㅎㅎㅎㅎㅎㅎㅎㅎㅎㅎㅎㅎㅎㅎㅎㅎㅎㅎㅎㅎㅎㅎㅎㅎㅎㅎㅎㅎㅎㅎㅎㅎㅎㅎㅎㅎㅎㅎㅎㅎㅎㅎㅎㅎㅎㅎㅎㅎㅎㅎㅎㅎㅎㅎㅎㅎㅎㅎㅎㅎㅎㅎㅎㅎㅎㅎㅎㅎㅎㅎㅎㅎㅎㅎㅎㅎㅎㅎㅎㅎㅎㅎㅎㅎㅎㅎㅎㅎㅎㅎㅎㅎㅎㅎㅎㅎㅎㅎㅎㅎㅎㅎㅎㅎㅎㅎㅎㅎㅎㅎㅎㅎㅎㅎㅎㅎㅎㅎㅎㅎㅎㅎㅎㅎㅎㅎㅎㅎㅎㅎㅎㅎㅎㅎㅎㅎㅎㅎㅎㅎㅎㅎㅎㅎㅎㅎㅎㅎㅎㅎㅎㅎㅎㅎㅎㅎㅎㅎㅎㅎㅎㅎㅎㅎㅎㅎㅎㅎㅎㅎㅎㅎㅎㅎㅎㅎㅎㅎㅎㅎㅎㅎㅎㅎㅎㅎㅎㅎㅎㅎㅎㅎㅎㅎㅎㅎㅎㅎㅎㅎㅎㅎㅎㅎㅎㅎㅎㅎㅎㅎㅎㅎㅎㅎㅎㅎㅎㅎㅎㅎㅎㅎㅎㅎㅎㅎㅎㅎㅎㅎㅎㅎㅎㅎㅎㅎㅎㅎㅎㅎㅎㅎㅎㅎㅎㅎㅎㅎㅎㅎㅎㅎㅎㅎㅎㅎㅎㅎㅎㅎㅎㅎㅎㅎㅎㅎㅎㅎㅎㅎㅎㅎㅎㅎㅎㅎㅎㅎㅎㅎㅎㅎㅎㅎㅎㅎㅎㅎㅎㅎㅎㅎㅎㅎㅎㅎㅎㅎㅎㅎㅎㅎㅎㅎㅎㅎㅎㅎㅎㅎㅎㅎㅎㅎㅎㅎㅎㅎㅎㅎㅎㅎㅎㅎㅎㅎㅎㅎㅎㅎㅎㅎㅎㅎㅎㅎㅎㅎㅎㅎㅎㅎㅎㅎㅎㅎㅎㅎㅎㅎㅎㅎㅎㅎㅎㅎㅎㅎㅎㅎㅎㅎㅎㅎㅎㅎㅎㅎㅎㅎㅎㅎㅎㅎㅎㅎㅎㅎㅎㅎㅎㅎㅎㅎㅎㅎㅎㅎㅎㅎㅎㅎㅎㅎㅎㅎㅎㅎㅎㅎㅎㅎㅎㅎㅎㅎㅎㅎㅎㅎㅎㅎㅎㅎㅎㅎㅎㅎㅎㅎㅎㅎㅎㅎㅎㅎㅎㅎㅎㅎㅎㅎㅎㅎㅎㅎㅎㅎㅎㅎㅎㅎㅎㅎㅎㅎㅎㅎㅎㅎㅎㅎㅎㅎㅎㅎㅎㅎㅎㅎㅎㅎㅎㅎㅎㅎㅎㅎㅎㅎㅎㅎㅎㅎㅎㅎㅎㅎㅎㅎㅎㅎㅎㅎㅎㅎㅎㅎㅎㅎㅎㅎㅎㅎㅎㅎㅎㅎㅎㅎㅎㅎㅎㅎㅎㅎㅎㅎㅎㅎㅎㅎㅎㅎㅎㅎㅎㅎㅎㅎㅎㅎㅎㅎㅎㅎㅎㅎㅎㅎㅎㅎㅎㅎㅎㅎㅎㅎㅎㅎㅎㅎㅎㅎㅎㅎㅎㅎㅎㅎㅎㅎㅎㅎㅎㅎㅎㅎㅎㅎㅎㅎㅎㅎㅎㅎㅎㅎㅎㅎㅎㅎㅎㅎㅎㅎㅎㅎㅎㅎㅎㅎㅎㅎㅎㅎㅎㅎㅎㅎㅎㅎㅎㅎㅎㅎㅎㅎㅎㅎㅎㅎㅎㅎㅎㅎㅎㅎㅎㅎㅎㅎㅎㅎㅎㅎㅎㅎㅎㅎㅎㅎㅎㅎㅎㅎㅎㅎㅎㅎㅎㅎㅎㅎㅎㅎㅎㅎㅎㅎㅎㅎㅎㅎㅎㅎㅎㅎㅎㅎㅎㅎㅎㅎㅎㅎㅎㅎㅎㅎㅎㅎㅎㅎㅎㅎㅎㅎㅎㅎㅎㅎㅎㅎㅎㅎㅎㅎㅎㅎㅎㅎㅎㅎㅎㅎㅎㅎㅎㅎㅎㅎㅎㅎㅎㅎㅎㅎㅎㅎㅎㅎㅎㅎㅎㅎㅎㅎㅎㅎㅎㅎㅎㅎㅎㅎㅎㅎㅎㅎㅎㅎㅎㅎㅎㅎㅎㅎㅎㅎㅎㅎㅎㅎㅎㅎㅎㅎㅎㅎㅎㅎㅎㅎㅎㅎㅎㅎㅎㅎㅎㅎㅎㅎㅎㅎㅎㅎㅎㅎㅎㅎㅎㅎㅎㅎㅎㅎㅎㅎㅎㅎㅎㅎㅎㅎㅎㅎㅎㅎㅎㅎㅎㅎㅎㅎㅎㅎㅎㅎㅎㅎㅎㅎㅎㅎㅎㅎㅎㅎㅎㅎㅎㅎㅎㅎㅎㅎㅎㅎㅎㅎㅎㅎㅎㅎㅎㅎㅎㅎㅎㅎㅎㅎㅎㅎㅎㅎㅎㅎㅎㅎㅎㅎㅎㅎㅎㅎㅎㅎㅎㅎㅎㅎㅎㅎㅎㅎㅎㅎㅎㅎㅎㅎㅎㅎㅎㅎㅎㅎㅎㅎㅎㅎㅎㅎㅎㅎㅎㅎㅎㅎㅎㅎㅎㅎㅎㅎㅎㅎㅎㅎㅎㅎㅎㅎㅎㅎㅎㅎㅎㅎㅎㅎㅎㅎㅎㅎㅎㅎㅎㅎㅎㅎㅎㅎㅎㅎㅎㅎㅎㅎㅎㅎㅎㅎㅎㅎㅎㅎㅎㅎㅎㅎㅎㅎㅎㅎㅎㅎㅎㅎㅎㅎㅎㅎㅎㅎㅎㅎㅎㅎㅎㅎㅎㅎㅎㅎㅎㅎㅎㅎㅎㅎㅎㅎㅎㅎㅎㅎㅎㅎㅎㅎㅎㅎㅎㅎㅎㅎㅎㅎㅎㅎㅎㅎㅎㅎㅎㅎㅎㅎㅎㅎㅎㅎㅎㅎㅎㅎㅎㅎㅎㅎㅎㅎㅎㅎㅎㅎㅎㅎㅎㅎㅎㅎㅎㅎㅎㅎㅎㅎㅎㅎㅎㅎㅎㅎㅎㅎㅎㅎㅎㅎㅎㅎㅎㅎㅎㅎㅎㅎㅎㅎㅎㅎㅎㅎㅎㅎㅎㅎㅎㅎㅎㅎㅎㅎㅎㅎㅎㅎㅎㅎㅎㅎㅎㅎㅎㅎㅎㅎㅎㅎㅎㅎㅎㅎㅎㅎㅎㅎㅎㅎㅎㅎㅎㅎㅎㅎㅎㅎㅎㅎㅎㅎㅎㅎㅎㅎㅎㅎㅎㅎㅎㅎㅎㅎㅎㅎㅎㅎㅎㅎㅎㅎㅎㅎㅎㅎㅎㅎㅎㅎㅎㅎㅎㅎㅎㅎㅎㅎㅎㅎㅎㅎㅎㅎㅎㅎㅎㅎㅎㅎㅎㅎㅎㅎㅎㅎㅎㅎㅎㅎㅎㅎㅎㅎㅎㅎㅎㅎㅎㅎㅎㅎㅎㅎㅎㅎㅎㅎㅎㅎㅎㅎㅎㅎㅎㅎㅎㅎㅎㅎㅎㅎㅎㅎㅎㅎㅎㅎㅎㅎㅎㅎㅎㅎㅎㅎㅎㅎㅎㅎㅎㅎㅎㅎㅎㅎㅎㅎㅎㅎㅎㅎㅎㅎㅎㅎㅎㅎㅎㅎㅎㅎㅎㅎㅎㅎㅎㅎㅎㅎㅎㅎㅎㅎㅎㅎㅎㅎㅎㅎㅎㅎㅎㅎㅎㅎㅎㅎㅎㅎㅎㅎㅎㅎㅎㅎㅎㅎㅎㅎㅎㅎㅎㅎㅎㅎㅎㅎㅎㅎㅎㅎㅎㅎㅎㅎㅎㅎㅎㅎㅎㅎㅎㅎㅎㅎㅎㅎㅎㅎㅎㅎㅎㅎㅎㅎㅎㅎㅎㅎㅎㅎㅎㅎㅎㅎㅎㅎㅎㅎㅎㅎㅎㅎㅎㅎㅎㅎㅎㅎㅎㅎㅎㅎㅎㅎㅎㅎㅎㅎㅎㅎㅎㅎㅎㅎㅎㅎㅎㅎㅎㅎㅎㅎㅎㅎㅎㅎㅎㅎㅎㅎㅎㅎㅎㅎㅎㅎㅎㅎㅎㅎㅎㅎㅎㅎㅎㅎㅎㅎㅎㅎㅎㅎㅎㅎㅎㅎㅎㅎㅎㅎㅎㅎㅎㅎㅎㅎㅎㅎㅎㅎㅎㅎㅎㅎㅎㅎㅎㅎㅎㅎㅎㅎㅎㅎㅎㅎㅎㅎㅎㅎㅎㅎㅎㅎㅎㅎㅎㅎㅎㅎㅎㅎㅎㅎㅎㅎㅎㅎㅎㅎㅎㅎㅎㅎㅎㅎㅎㅎㅎㅎㅎㅎㅎㅎㅎㅎㅎㅎㅎㅎㅎㅎㅎㅎㅎㅎㅎㅎㅎㅎㅎㅎㅎㅎㅎㅎㅎㅎㅎㅎㅎㅎㅎㅎㅎㅎㅎㅎㅎㅎㅎㅎㅎㅎㅎㅎㅎㅎㅎㅎㅎㅎㅎㅎㅎㅎㅎㅎㅎㅎㅎㅎㅎㅎㅎㅎㅎㅎㅎㅎㅎㅎㅎㅎㅎㅎㅎㅎㅎㅎㅎㅎㅎㅎㅎㅎㅎㅎㅎㅎㅎㅎㅎㅎㅎㅎㅎㅎㅎㅎㅎㅎㅎㅎㅎㅎㅎㅎㅎㅎㅎㅎㅎㅎㅎㅎㅎㅎㅎㅎㅎㅎㅎㅎㅎㅎㅎㅎㅎㅎㅎㅎㅎㅎㅎㅎㅎㅎㅎㅎㅎㅎㅎㅎㅎㅎㅎㅎㅎㅎㅎㅎㅎㅎㅎㅎㅎㅎㅎㅎㅎㅎㅎㅎㅎㅎㅎㅎㅎㅎㅎㅎㅎㅎㅎㅎㅎㅎㅎㅎㅎㅎㅎㅎㅎㅎㅎㅎㅎㅎㅎㅎㅎㅎㅎㅎㅎㅎㅎㅎㅎㅎㅎㅎㅎㅎㅎㅎㅎㅎㅎㅎㅎㅎㅎㅎㅎㅎㅎㅎㅎㅎㅎㅎㅎㅎㅎㅎㅎㅎㅎㅎㅎㅎㅎㅎㅎㅎㅎㅎㅎㅎㅎㅎㅎㅎㅎㅎㅎㅎㅎㅎㅎㅎㅎㅎㅎㅎㅎㅎㅎㅎㅎㅎㅎㅎㅎㅎㅎㅎㅎㅎㅎㅎㅎㅎㅎㅎㅎㅎㅎㅎㅎㅎㅎㅎㅎㅎㅎㅎㅎㅎㅎㅎㅎㅎㅎㅎㅎㅎㅎㅎㅎㅎㅎㅎㅎㅎㅎㅎㅎㅎㅎㅎㅎㅎㅎㅎㅎㅎㅎㅎㅎㅎㅎㅎㅎㅎㅎㅎㅎㅎㅎㅎㅎㅎㅎㅎㅎㅎㅎㅎㅎㅎㅎㅎㅎㅎㅎㅎㅎㅎㅎㅎㅎㅎㅎㅎㅎㅎㅎㅎㅎㅎㅎㅎㅎㅎㅎㅎㅎㅎㅎㅎㅎㅎㅎㅎㅎㅎㅎㅎㅎㅎㅎㅎㅎㅎㅎㅎㅎㅎㅎㅎㅎㅎㅎㅎㅎㅎㅎㅎㅎㅎㅎㅎㅎㅎㅎㅎㅎㅎㅎㅎㅎㅎㅎㅎㅎㅎㅎㅎㅎㅎㅎㅎㅎㅎㅎㅎㅎㅎㅎㅎㅎㅎㅎㅎㅎㅎㅎㅎㅎㅎㅎㅎㅎㅎㅎㅎㅎㅎㅎㅎㅎㅎㅎㅎㅎㅎㅎㅎㅎㅎㅎㅎㅎㅎㅎㅎㅎㅎㅎㅎㅎㅎㅎㅎㅎㅎㅎㅎㅎㅎㅎㅎㅎㅎㅎㅎㅎㅎㅎㅎㅎㅎㅎㅎㅎㅎㅎㅎㅎㅎㅎㅎㅎㅎㅎㅎㅎㅎㅎㅎㅎㅎㅎㅎㅎㅎㅎㅎㅎㅎㅎㅎㅎㅎㅎㅎㅎㅎㅎㅎㅎㅎㅎㅎㅎㅎㅎㅎㅎㅎㅎㅎㅎㅎㅎㅎㅎㅎㅎㅎㅎㅎㅎㅎㅎㅎㅎㅎㅎㅎㅎㅎㅎㅎㅎㅎㅎㅎㅎㅎㅎㅎㅎㅎㅎㅎㅎㅎㅎㅎㅎㅎㅎㅎㅎㅎㅎㅎㅎㅎㅎㅎㅎㅎㅎㅎㅎㅎㅎㅎㅎㅎㅎㅎㅎㅎㅎㅎㅎㅎㅎㅎㅎㅎㅎㅎㅎㅎㅎㅎㅎㅎㅎㅎㅎㅎㅎㅎㅎㅎㅎㅎㅎㅎㅎㅎㅎㅎㅎㅎㅎㅎㅎㅎㅎㅎㅎㅎㅎㅎㅎㅎㅎㅎㅎㅎㅎㅎㅎㅎㅎㅎㅎㅎㅎㅎㅎㅎㅎㅎㅎㅎㅎㅎㅎㅎㅎㅎㅎㅎㅎㅎㅎㅎㅎㅎㅎㅎㅎㅎㅎㅎㅎㅎㅎㅎㅎㅎㅎㅎㅎㅎㅎㅎㅎㅎㅎㅎㅎㅎㅎㅎㅎㅎㅎㅎㅎㅎㅎㅎㅎㅎㅎㅎㅎㅎㅎㅎㅎㅎㅎㅎㅎㅎㅎㅎㅎㅎㅎㅎㅎㅎㅎㅎㅎㅎㅎㅎㅎㅎㅎㅎㅎㅎㅎㅎㅎㅎㅎㅎㅎㅎㅎㅎㅎㅎㅎㅎㅎㅎㅎㅎㅎㅎㅎㅎㅎㅎㅎㅎㅎㅎㅎㅎㅎㅎㅎㅎㅎㅎㅎㅎㅎㅎㅎㅎㅎㅎㅎㅎㅎㅎㅎㅎㅎㅎㅎㅎㅎㅎㅎㅎㅎㅎㅎㅎㅎㅎㅎㅎㅎㅎㅎㅎㅎㅎㅎㅎㅎㅎㅎㅎㅎㅎㅎㅎㅎㅎㅎㅎㅎㅎㅎㅎㅎㅎㅎㅎㅎㅎㅎㅎㅎㅎㅎㅎㅎㅎㅎㅎㅎㅎㅎㅎㅎㅎㅎㅎㅎㅎㅎㅎㅎㅎㅎㅎㅎㅎㅎㅎㅎㅎㅎㅎㅎㅎㅎㅎㅎㅎㅎㅎㅎㅎㅎㅎㅎㅎㅎㅎㅎㅎㅎㅎㅎㅎㅎㅎㅎㅎㅎㅎㅎㅎㅎㅎㅎㅎㅎㅎㅎㅎㅎㅎㅎㅎㅎㅎㅎㅎㅎㅎㅎㅎㅎㅎㅎㅎㅎㅎㅎㅎㅎㅎㅎㅎㅎㅎㅎㅎㅎㅎㅎㅎㅎㅎㅎㅎㅎㅎㅎㅎㅎㅎㅎㅎㅎㅎㅎㅎㅎㅎㅎㅎㅎㅎㅎㅎㅎㅎㅎㅎㅎㅎㅎㅎㅎㅎㅎㅎㅎㅎㅎㅎㅎㅎㅎㅎㅎㅎㅎㅎㅎㅎㅎㅎㅎㅎㅎㅎㅎㅎㅎㅎㅎㅎㅎㅎㅎㅎㅎㅎㅎㅎㅎㅎㅎㅎㅎㅎㅎㅎㅎㅎㅎㅎㅎㅎㅎㅎㅎㅎㅎㅎㅎㅎㅎㅎㅎㅎㅎㅎㅎㅎㅎㅎㅎㅎㅎㅎㅎㅎㅎㅎㅎㅎㅎㅎㅎㅎㅎㅎㅎㅎㅎㅎㅎㅎㅎㅎㅎㅎㅎㅎㅎㅎㅎㅎㅎㅎㅎㅎㅎㅎㅎㅎㅎㅎㅎㅎㅎㅎㅎㅎㅎㅎㅎㅎㅎㅎㅎㅎㅎㅎㅎㅎㅎㅎㅎㅎㅎㅎㅎㅎㅎㅎㅎㅎㅎㅎㅎㅎㅎㅎㅎㅎㅎㅎㅎㅎㅎㅎㅎㅎㅎㅎㅎㅎㅎㅎㅎㅎㅎㅎㅎㅎㅎㅎㅎㅎㅎㅎㅎㅎㅎㅎㅎㅎㅎㅎㅎㅎㅎㅎㅎㅎㅎㅎㅎㅎㅎㅎㅎㅎㅎㅎㅎㅎㅎㅎㅎㅎㅎㅎㅎㅎㅎㅎㅎㅎㅎㅎㅎㅎㅎㅎㅎㅎㅎㅎㅎㅎㅎㅎㅎㅎㅎㅎㅎㅎㅎㅎㅎㅎㅎㅎㅎㅎㅎㅎㅎㅎㅎㅎㅎㅎㅎㅎㅎㅎㅎㅎㅎㅎㅎㅎㅎㅎㅎㅎㅎㅎㅎㅎㅎㅎㅎㅎㅎㅎㅎㅎㅎㅎㅎㅎㅎㅎㅎㅎㅎㅎㅎㅎㅎㅎㅎㅎㅎㅎㅎㅎㅎㅎㅎㅎㅎㅎㅎㅎㅎㅎㅎㅎㅎㅎㅎㅎㅎㅎㅎㅎㅎㅎㅎㅎㅎㅎㅎㅎㅎㅎㅎㅎㅎㅎㅎㅎㅎㅎㅎㅎㅎㅎㅎㅎㅎㅎㅎㅎㅎㅎㅎㅎㅎㅎㅎㅎㅎㅎㅎㅎㅎㅎㅎㅎㅎㅎㅎㅎㅎㅎㅎㅎㅎㅎㅎㅎㅎㅎㅎㅎㅎㅎㅎㅎㅎㅎㅎㅎㅎㅎㅎㅎㅎㅎㅎㅎㅎㅎㅎㅎㅎㅎㅎㅎㅎㅎㅎㅎㅎㅎㅎㅎㅎㅎㅎㅎㅎㅎㅎㅎㅎㅎㅎㅎㅎㅎㅎㅎㅎㅎㅎㅎㅎㅎㅎㅎㅎㅎㅎㅎㅎㅎㅎㅎㅎㅎㅎㅎㅎㅎㅎㅎㅎㅎㅎㅎㅎㅎㅎㅎㅎㅎㅎㅎㅎㅎㅎㅎㅎㅎㅎㅎㅎㅎㅎㅎㅎㅎㅎㅎㅎㅎㅎㅎㅎㅎㅎㅎㅎㅎㅎㅎㅎㅎㅎㅎㅎㅎㅎㅎㅎㅎㅎㅎㅎㅎㅎㅎㅎㅎㅎㅎㅎㅎㅎㅎㅎㅎㅎㅎㅎㅎㅎㅎㅎㅎㅎㅎㅎㅎㅎㅎㅎㅎㅎㅎㅎㅎㅎㅎㅎㅎㅎㅎㅎㅎㅎㅎㅎㅎㅎㅎㅎㅎㅎㅎㅎㅎㅎㅎㅎㅎㅎㅎㅎㅎㅎㅎㅎㅎㅎㅎㅎㅎㅎㅎㅎㅎㅎㅎㅎㅎㅎㅎㅎㅎㅎㅎㅎㅎㅎㅎㅎㅎㅎㅎㅎㅎㅎㅎㅎㅎㅎㅎㅎㅎㅎㅎㅎㅎㅎㅎㅎㅎㅎㅎㅎㅎㅎㅎㅎㅎㅎㅎㅎㅎㅎㅎㅎㅎㅎㅎㅎㅎㅎㅎㅎㅎㅎㅎㅎㅎㅎㅎㅎㅎㅎㅎㅎㅎㅎㅎㅎㅎㅎㅎㅎㅎㅎㅎㅎㅎㅎㅎㅎㅎㅎㅎㅎㅎㅎㅎㅎㅎㅎㅎㅎㅎㅎㅎㅎㅎㅎㅎㅎㅎㅎㅎㅎㅎㅎㅎㅎㅎㅎㅎㅎㅎㅎㅎㅎㅎㅎㅎㅎㅎㅎㅎㅎㅎㅎㅎㅎㅎㅎㅎㅎㅎㅎㅎㅎㅎㅎㅎㅎㅎㅎㅎㅎㅎㅎㅎㅎㅎㅎㅎㅎㅎㅎㅎㅎㅎㅎㅎㅎㅎㅎㅎㅎㅎㅎㅎㅎㅎㅎㅎㅎㅎㅎㅎㅎㅎㅎㅎㅎㅎㅎㅎㅎㅎㅎㅎㅎㅎㅎㅎㅎㅎㅎㅎㅎㅎㅎㅎㅎㅎㅎㅎㅎㅎㅎㅎㅎㅎㅎㅎㅎㅎㅎㅎㅎㅎㅎㅎㅎㅎㅎㅎㅎㅎㅎㅎㅎㅎㅎㅎㅎㅎㅎㅎㅎㅎㅎㅎㅎㅎㅎㅎㅎㅎㅎㅎㅎㅎㅎㅎㅎㅎㅎㅎㅎㅎㅎㅎㅎㅎㅎㅎㅎㅎㅎㅎㅎㅎㅎㅎㅎㅎㅎㅎㅎㅎㅎㅎㅎㅎㅎㅎㅎㅎㅎㅎㅎㅎㅎㅎㅎㅎㅎㅎㅎㅎㅎㅎㅎㅎㅎㅎㅎㅎㅎㅎㅎㅎㅎㅎㅎㅎㅎㅎㅎㅎㅎㅎㅎㅎㅎㅎㅎㅎㅎㅎㅎㅎㅎㅎㅎㅎㅎㅎㅎㅎㅎㅎㅎㅎㅎㅎㅎㅎㅎㅎㅎㅎㅎㅎㅎㅎㅎㅎㅎㅎㅎㅎㅎㅎㅎㅎㅎㅎㅎㅎㅎㅎㅎㅎㅎㅎㅎㅎㅎㅎㅎㅎㅎㅎㅎㅎㅎㅎㅎㅎㅎㅎㅎㅎㅎㅎㅎㅎㅎㅎㅎㅎㅎㅎㅎㅎㅎㅎㅎㅎㅎㅎㅎㅎㅎㅎㅎㅎㅎㅎㅎㅎㅎㅎㅎㅎㅎㅎㅎㅎㅎㅎㅎㅎㅎㅎㅎㅎㅎㅎㅎㅎㅎㅎㅎㅎㅎㅎㅎㅎㅎㅎㅎㅎㅎㅎㅎㅎㅎㅎㅎㅎㅎㅎㅎㅎㅎㅎㅎㅎㅎㅎㅎㅎㅎㅎㅎㅎㅎㅎㅎㅎㅎㅎㅎㅎㅎㅎㅎㅎㅎㅎㅎㅎㅎㅎㅎㅎㅎㅎㅎㅎㅎㅎㅎㅎㅎㅎㅎㅎㅎㅎㅎㅎㅎㅎㅎㅎㅎㅎㅎㅎㅎㅎㅎㅎㅎㅎㅎㅎㅎㅎㅎㅎㅎㅎㅎㅎㅎㅎㅎㅎㅎㅎㅎㅎㅎㅎㅎㅎㅎㅎㅎㅎㅎㅎㅎㅎㅎㅎㅎㅎㅎㅎㅎㅎㅎㅎㅎㅎㅎㅎㅎㅎㅎㅎㅎㅎㅎㅎㅎㅎㅎㅎㅎㅎㅎㅎㅎㅎㅎㅎㅎㅎㅎㅎㅎㅎㅎㅎㅎㅎㅎㅎㅎㅎㅎㅎㅎㅎㅎㅎㅎㅎㅎㅎㅎㅎㅎㅎㅎㅎㅎㅎㅎㅎㅎㅎㅎㅎㅎㅎㅎㅎㅎㅎㅎㅎㅎㅎㅎㅎㅎㅎㅎㅎㅎㅎㅎㅎㅎㅎㅎㅎㅎㅎㅎㅎㅎㅎㅎㅎㅎㅎㅎㅎㅎㅎㅎㅎㅎㅎㅎㅎㅎㅎㅎㅎㅎㅎㅎㅎㅎㅎㅎㅎㅎㅎㅎㅎㅎㅎㅎㅎㅎㅎㅎㅎㅎㅎㅎㅎㅎㅎㅎㅎㅎㅎㅎㅎㅎㅎㅎㅎㅎㅎㅎㅎㅎㅎㅎㅎㅎㅎㅎㅎㅎㅎㅎㅎㅎㅎㅎㅎㅎㅎㅎㅎㅎㅎㅎㅎㅎㅎㅎㅎㅎㅎㅎㅎㅎㅎㅎㅎㅎㅎㅎㅎㅎㅎㅎㅎㅎㅎㅎㅎㅎㅎㅎㅎㅎㅎㅎㅎㅎㅎㅎㅎㅎㅎㅎㅎㅎㅎㅎㅎㅎㅎㅎㅎㅎㅎㅎㅎㅎㅎㅎㅎㅎㅎㅎㅎㅎㅎㅎㅎㅎㅎㅎㅎㅎㅎㅎㅎㅎㅎㅎㅎㅎㅎㅎㅎㅎㅎㅎㅎㅎㅎㅎㅎㅎㅎㅎㅎㅎㅎㅎㅎㅎㅎㅎㅎㅎㅎㅎㅎㅎㅎㅎㅎㅎㅎㅎㅎㅎㅎㅎㅎㅎㅎㅎㅎㅎㅎㅎㅎㅎㅎㅎㅎㅎㅎㅎㅎㅎㅎㅎㅎㅎㅎㅎㅎㅎㅎㅎㅎㅎㅎㅎㅎㅎㅎㅎㅎㅎㅎㅎㅎㅎㅎㅎㅎㅎㅎㅎㅎㅎㅎㅎㅎㅎㅎㅎㅎㅎㅎㅎㅎㅎㅎㅎㅎㅎㅎㅎㅎㅎㅎㅎㅎㅎㅎㅎㅎㅎㅎㅎㅎㅎㅎㅎㅎㅎㅎㅎㅎㅎㅎㅎㅎㅎㅎㅎㅎㅎㅎㅎㅎㅎㅎㅎㅎㅎㅎㅎㅎㅎㅎㅎㅎㅎㅎㅎㅎㅎㅎㅎㅎㅎㅎㅎㅎㅎㅎㅎㅎㅎㅎㅎㅎㅎㅎㅎㅎㅎㅎㅎㅎㅎㅎㅎㅎㅎㅎㅎㅎㅎㅎㅎㅎㅎㅎㅎㅎㅎㅎㅎㅎㅎㅎㅎㅎㅎㅎㅎㅎㅎㅎㅎㅎㅎㅎㅎㅎㅎㅎㅎㅎㅎㅎㅎㅎㅎㅎㅎㅎㅎㅎㅎㅎㅎㅎㅎㅎㅎㅎㅎㅎㅎㅎㅎㅎㅎㅎㅎㅎㅎㅎㅎㅎㅎㅎㅎㅎㅎㅎㅎㅎㅎㅎㅎㅎㅎㅎㅎㅎㅎㅎㅎㅎㅎㅎㅎㅎㅎㅎㅎㅎㅎㅎㅎㅎㅎㅎㅎㅎㅎㅎㅎㅎㅎㅎㅎㅎㅎㅎㅎㅎㅎㅎㅎㅎㅎㅎㅎㅎㅎㅎㅎㅎㅎㅎㅎㅎㅎㅎㅎㅎㅎㅎㅎㅎㅎㅎㅎㅎㅎㅎㅎㅎㅎㅎㅎㅎㅎㅎㅎㅎㅎㅎㅎㅎㅎㅎㅎㅎㅎㅎㅎㅎㅎㅎㅎㅎㅎㅎㅎㅎㅎㅎㅎㅎㅎㅎㅎㅎㅎㅎㅎㅎㅎㅎㅎㅎㅎㅎㅎㅎㅎㅎㅎㅎㅎㅎㅎㅎㅎㅎㅎㅎㅎㅎㅎㅎㅎㅎㅎㅎㅎㅎㅎㅎㅎㅎㅎㅎㅎㅎㅎㅎㅎㅎㅎㅎㅎㅎㅎㅎㅎㅎㅎㅎㅎㅎㅎㅎㅎㅎㅎㅎㅎㅎㅎㅎㅎㅎㅎㅎㅎㅎㅎㅎㅎㅎㅎㅎㅎㅎㅎㅎㅎㅎㅎㅎㅎㅎㅎㅎㅎㅎㅎㅎㅎㅎㅎㅎㅎㅎㅎㅎㅎㅎㅎㅎㅎㅎㅎㅎㅎㅎㅎㅎㅎㅎㅎㅎㅎㅎㅎㅎㅎㅎㅎㅎㅎㅎㅎㅎㅎㅎㅎㅎㅎㅎㅎㅎㅎㅎㅎㅎㅎㅎㅎㅎㅎㅎㅎㅎㅎㅎㅎㅎㅎㅎㅎㅎㅎㅎㅎㅎㅎㅎㅎㅎㅎㅎㅎㅎㅎㅎㅎㅎㅎㅎㅎㅎㅎㅎㅎㅎㅎㅎㅎㅎㅎㅎㅎㅎㅎㅎㅎㅎㅎㅎㅎㅎㅎㅎㅎㅎㅎㅎㅎㅎㅎㅎㅎㅎㅎㅎㅎㅎㅎㅎㅎㅎㅎㅎㅎㅎㅎㅎㅎㅎㅎㅎㅎㅎㅎㅎㅎㅎㅎㅎㅎㅎㅎㅎㅎㅎㅎㅎㅎㅎㅎㅎㅎㅎㅎㅎㅎㅎㅎㅎㅎㅎㅎㅎㅎㅎㅎㅎㅎㅎㅎㅎㅎㅎㅎㅎㅎㅎㅎㅎㅎㅎㅎㅎㅎㅎㅎㅎㅎㅎㅎㅎㅎㅎㅎㅎㅎㅎㅎㅎㅎㅎㅎㅎㅎㅎㅎㅎㅎㅎㅎㅎㅎㅎㅎㅎㅎㅎㅎㅎㅎㅎㅎㅎㅎㅎㅎㅎㅎㅎㅎㅎㅎㅎㅎㅎㅎㅎㅎㅎㅎㅎㅎㅎㅎㅎㅎㅎㅎㅎㅎㅎㅎㅎㅎㅎㅎㅎㅎㅎㅎㅎㅎㅎㅎㅎㅎㅎㅎㅎㅎㅎㅎㅎㅎㅎㅎㅎㅎㅎㅎㅎㅎㅎㅎㅎㅎㅎㅎㅎㅎㅎㅎㅎㅎㅎㅎㅎㅎㅎㅎㅎㅎㅎㅎㅎㅎㅎㅎㅎㅎㅎㅎㅎㅎㅎㅎㅎㅎㅎㅎㅎㅎㅎㅎㅎㅎㅎㅎㅎㅎㅎㅎㅎㅎㅎㅎㅎㅎㅎㅎㅎㅎㅎㅎㅎㅎㅎㅎㅎㅎㅎㅎㅎㅎㅎㅎㅎㅎㅎㅎㅎㅎㅎㅎㅎㅎㅎㅎㅎㅎㅎㅎㅎㅎㅎㅎㅎㅎㅎㅎㅎㅎㅎㅎㅎㅎㅎㅎㅎㅎㅎㅎㅎㅎㅎㅎㅎㅎㅎㅎㅎㅎㅎㅎㅎㅎㅎㅎㅎㅎㅎㅎㅎㅎㅎㅎㅎㅎㅎㅎㅎ"
          ]
        },
        {
          "output_type": "error",
          "ename": "KeyboardInterrupt",
          "evalue": "ignored",
          "traceback": [
            "\u001b[0;31m---------------------------------------------------------------------------\u001b[0m",
            "\u001b[0;31mKeyboardInterrupt\u001b[0m                         Traceback (most recent call last)",
            "\u001b[0;32m<ipython-input-21-78cb649afca2>\u001b[0m in \u001b[0;36m<module>\u001b[0;34m\u001b[0m\n\u001b[1;32m      1\u001b[0m \u001b[0;32mwhile\u001b[0m \u001b[0;32mTrue\u001b[0m\u001b[0;34m:\u001b[0m\u001b[0;34m\u001b[0m\u001b[0;34m\u001b[0m\u001b[0m\n\u001b[0;32m----> 2\u001b[0;31m     \u001b[0mprint\u001b[0m\u001b[0;34m(\u001b[0m\u001b[0;34m\"ㅎ\"\u001b[0m\u001b[0;34m,\u001b[0m \u001b[0mend\u001b[0m \u001b[0;34m=\u001b[0m \u001b[0;34m\"\"\u001b[0m\u001b[0;34m)\u001b[0m\u001b[0;34m\u001b[0m\u001b[0;34m\u001b[0m\u001b[0m\n\u001b[0m",
            "\u001b[0;32m/usr/local/lib/python3.8/dist-packages/ipykernel/iostream.py\u001b[0m in \u001b[0;36mwrite\u001b[0;34m(self, string)\u001b[0m\n\u001b[1;32m    402\u001b[0m             \u001b[0mis_child\u001b[0m \u001b[0;34m=\u001b[0m \u001b[0;34m(\u001b[0m\u001b[0;32mnot\u001b[0m \u001b[0mself\u001b[0m\u001b[0;34m.\u001b[0m\u001b[0m_is_master_process\u001b[0m\u001b[0;34m(\u001b[0m\u001b[0;34m)\u001b[0m\u001b[0;34m)\u001b[0m\u001b[0;34m\u001b[0m\u001b[0;34m\u001b[0m\u001b[0m\n\u001b[1;32m    403\u001b[0m             \u001b[0;31m# only touch the buffer in the IO thread to avoid races\u001b[0m\u001b[0;34m\u001b[0m\u001b[0;34m\u001b[0m\u001b[0;34m\u001b[0m\u001b[0m\n\u001b[0;32m--> 404\u001b[0;31m             \u001b[0mself\u001b[0m\u001b[0;34m.\u001b[0m\u001b[0mpub_thread\u001b[0m\u001b[0;34m.\u001b[0m\u001b[0mschedule\u001b[0m\u001b[0;34m(\u001b[0m\u001b[0;32mlambda\u001b[0m \u001b[0;34m:\u001b[0m \u001b[0mself\u001b[0m\u001b[0;34m.\u001b[0m\u001b[0m_buffer\u001b[0m\u001b[0;34m.\u001b[0m\u001b[0mwrite\u001b[0m\u001b[0;34m(\u001b[0m\u001b[0mstring\u001b[0m\u001b[0;34m)\u001b[0m\u001b[0;34m)\u001b[0m\u001b[0;34m\u001b[0m\u001b[0;34m\u001b[0m\u001b[0m\n\u001b[0m\u001b[1;32m    405\u001b[0m             \u001b[0;32mif\u001b[0m \u001b[0mis_child\u001b[0m\u001b[0;34m:\u001b[0m\u001b[0;34m\u001b[0m\u001b[0;34m\u001b[0m\u001b[0m\n\u001b[1;32m    406\u001b[0m                 \u001b[0;31m# mp.Pool cannot be trusted to flush promptly (or ever),\u001b[0m\u001b[0;34m\u001b[0m\u001b[0;34m\u001b[0m\u001b[0;34m\u001b[0m\u001b[0m\n",
            "\u001b[0;32m/usr/local/lib/python3.8/dist-packages/ipykernel/iostream.py\u001b[0m in \u001b[0;36mschedule\u001b[0;34m(self, f)\u001b[0m\n\u001b[1;32m    203\u001b[0m             \u001b[0mself\u001b[0m\u001b[0;34m.\u001b[0m\u001b[0m_events\u001b[0m\u001b[0;34m.\u001b[0m\u001b[0mappend\u001b[0m\u001b[0;34m(\u001b[0m\u001b[0mf\u001b[0m\u001b[0;34m)\u001b[0m\u001b[0;34m\u001b[0m\u001b[0;34m\u001b[0m\u001b[0m\n\u001b[1;32m    204\u001b[0m             \u001b[0;31m# wake event thread (message content is ignored)\u001b[0m\u001b[0;34m\u001b[0m\u001b[0;34m\u001b[0m\u001b[0;34m\u001b[0m\u001b[0m\n\u001b[0;32m--> 205\u001b[0;31m             \u001b[0mself\u001b[0m\u001b[0;34m.\u001b[0m\u001b[0m_event_pipe\u001b[0m\u001b[0;34m.\u001b[0m\u001b[0msend\u001b[0m\u001b[0;34m(\u001b[0m\u001b[0;34mb''\u001b[0m\u001b[0;34m)\u001b[0m\u001b[0;34m\u001b[0m\u001b[0;34m\u001b[0m\u001b[0m\n\u001b[0m\u001b[1;32m    206\u001b[0m         \u001b[0;32melse\u001b[0m\u001b[0;34m:\u001b[0m\u001b[0;34m\u001b[0m\u001b[0;34m\u001b[0m\u001b[0m\n\u001b[1;32m    207\u001b[0m             \u001b[0mf\u001b[0m\u001b[0;34m(\u001b[0m\u001b[0;34m)\u001b[0m\u001b[0;34m\u001b[0m\u001b[0;34m\u001b[0m\u001b[0m\n",
            "\u001b[0;32m/usr/local/lib/python3.8/dist-packages/zmq/sugar/socket.py\u001b[0m in \u001b[0;36msend\u001b[0;34m(self, data, flags, copy, track, routing_id, group)\u001b[0m\n\u001b[1;32m    616\u001b[0m                 )\n\u001b[1;32m    617\u001b[0m             \u001b[0mdata\u001b[0m\u001b[0;34m.\u001b[0m\u001b[0mgroup\u001b[0m \u001b[0;34m=\u001b[0m \u001b[0mgroup\u001b[0m\u001b[0;34m\u001b[0m\u001b[0;34m\u001b[0m\u001b[0m\n\u001b[0;32m--> 618\u001b[0;31m         \u001b[0;32mreturn\u001b[0m \u001b[0msuper\u001b[0m\u001b[0;34m(\u001b[0m\u001b[0;34m)\u001b[0m\u001b[0;34m.\u001b[0m\u001b[0msend\u001b[0m\u001b[0;34m(\u001b[0m\u001b[0mdata\u001b[0m\u001b[0;34m,\u001b[0m \u001b[0mflags\u001b[0m\u001b[0;34m=\u001b[0m\u001b[0mflags\u001b[0m\u001b[0;34m,\u001b[0m \u001b[0mcopy\u001b[0m\u001b[0;34m=\u001b[0m\u001b[0mcopy\u001b[0m\u001b[0;34m,\u001b[0m \u001b[0mtrack\u001b[0m\u001b[0;34m=\u001b[0m\u001b[0mtrack\u001b[0m\u001b[0;34m)\u001b[0m\u001b[0;34m\u001b[0m\u001b[0;34m\u001b[0m\u001b[0m\n\u001b[0m\u001b[1;32m    619\u001b[0m \u001b[0;34m\u001b[0m\u001b[0m\n\u001b[1;32m    620\u001b[0m     def send_multipart(\n",
            "\u001b[0;32mzmq/backend/cython/socket.pyx\u001b[0m in \u001b[0;36mzmq.backend.cython.socket.Socket.send\u001b[0;34m()\u001b[0m\n",
            "\u001b[0;32mzmq/backend/cython/socket.pyx\u001b[0m in \u001b[0;36mzmq.backend.cython.socket.Socket.send\u001b[0;34m()\u001b[0m\n",
            "\u001b[0;32mzmq/backend/cython/socket.pyx\u001b[0m in \u001b[0;36mzmq.backend.cython.socket._send_copy\u001b[0;34m()\u001b[0m\n",
            "\u001b[0;32m/usr/local/lib/python3.8/dist-packages/zmq/backend/cython/checkrc.pxd\u001b[0m in \u001b[0;36mzmq.backend.cython.checkrc._check_rc\u001b[0;34m()\u001b[0m\n",
            "\u001b[0;31mKeyboardInterrupt\u001b[0m: "
          ]
        }
      ]
    },
    {
      "cell_type": "markdown",
      "source": [
        "break 문\n",
        "- while문이 무한 루프에 빠질 때 빠져나가는 방법으로 break를 사용한다.\n",
        "\n",
        "![](https://t1.daumcdn.net/cfile/tistory/99EB743A5D86ABEB16)\n",
        "<center>break 문</center>"
      ],
      "metadata": {
        "id": "aU8n_hE2gb_P"
      }
    },
    {
      "cell_type": "code",
      "source": [
        "# break 문 예시\n",
        "\n",
        "for i in range(1, 100):\n",
        "    print('for 문을 %d번 실행했습니다.' % i)\n",
        "    break # break 때문에 단 1번 시행되고 멈춘다."
      ],
      "metadata": {
        "colab": {
          "base_uri": "https://localhost:8080/"
        },
        "id": "dG6ZVze9iSbG",
        "outputId": "a1c607e9-2a3a-4720-af4f-63d26bb6faa5"
      },
      "execution_count": null,
      "outputs": [
        {
          "output_type": "stream",
          "name": "stdout",
          "text": [
            "for 문을 1번 실행했습니다.\n"
          ]
        }
      ]
    },
    {
      "cell_type": "markdown",
      "source": [
        "continue 문\n",
        "- continue 문을 만나면 블록의 남은 부분을 무조건 건너뛰고 반복문의 처음으로 돌아간다. 즉 continue 문을 만나면 반복문을 처음부터 다시 수행한다.\n",
        "\n",
        "![](https://t1.daumcdn.net/cfile/tistory/99D7CC33599501081B)\n",
        "<center>continue 문</center>"
      ],
      "metadata": {
        "id": "yROLq4zWizt7"
      }
    },
    {
      "cell_type": "markdown",
      "source": [
        "##### 5. 함수\n",
        "- 함수란 매개변수를 입력받은 후 그 매개변수를 가공 및 처리해서 반환 값을 돌려준다."
      ],
      "metadata": {
        "id": "D_CGUlWfUF3a"
      }
    },
    {
      "cell_type": "code",
      "source": [
        "## 함수 선언 부분 ##\n",
        "\n",
        "def plus(v1, v2):\n",
        "    result = 0\n",
        "    result = v1 + v2\n",
        "    return result\n",
        "\n",
        "## 전역 변수 선언 부분 ##\n",
        "\n",
        "hap = 0\n",
        "\n",
        "## 메인 코드 부분 ##\n",
        "\n",
        "hap = plus(100, 200)\n",
        "\n",
        "print(\"100과 200의 plus() 함수 결과는 %d\" % hap)"
      ],
      "metadata": {
        "colab": {
          "base_uri": "https://localhost:8080/"
        },
        "id": "vN2foHX7UeJl",
        "outputId": "eb486ce9-fc84-410e-dc00-4d449950906c"
      },
      "execution_count": 1,
      "outputs": [
        {
          "output_type": "stream",
          "name": "stdout",
          "text": [
            "100과 200의 plus() 함수 결과는 300\n"
          ]
        }
      ]
    },
    {
      "cell_type": "code",
      "source": [
        "# main() 함수를 사용하여 재표현하기\n",
        "\n",
        "if __name__ == '__main__':\n",
        "    hap = plus(100, 200)\n",
        "    print(\"100과 200의 plus() 함수 결과는 %d\" % hap)"
      ],
      "metadata": {
        "colab": {
          "base_uri": "https://localhost:8080/"
        },
        "id": "6BugtHDUVw-9",
        "outputId": "525227d4-0ec6-4ac9-acd0-583e13b40bac"
      },
      "execution_count": 2,
      "outputs": [
        {
          "output_type": "stream",
          "name": "stdout",
          "text": [
            "100과 200의 plus() 함수 결과는 300\n"
          ]
        }
      ]
    },
    {
      "cell_type": "markdown",
      "source": [
        "지역 변수와 전역 변수\n",
        "- 지역 변수는 한정된 지역에서만 사용하는 변수고, 전역 변수는 프로그램 전체에서 사용하는 변수이다."
      ],
      "metadata": {
        "id": "fFy_j1HiVW_L"
      }
    },
    {
      "cell_type": "code",
      "source": [
        "# 함수 선언 부분\n",
        "\n",
        "def func1():\n",
        "    a = 10 # 지역 변수\n",
        "    print('func1()에서 a 값 %d' % a)\n",
        "\n",
        "def func2():\n",
        "    print('func2()에서 a 값 %d' % a)   \n",
        "\n",
        "# 전역 변수 선언\n",
        "a = 20 # 전역 변수\n",
        "\n",
        "# 메인코드\n",
        "\n",
        "func1()\n",
        "func2()"
      ],
      "metadata": {
        "colab": {
          "base_uri": "https://localhost:8080/"
        },
        "id": "FVnqlbNrWB3u",
        "outputId": "21549c19-6aa8-4f62-e7b4-8574ca50f736"
      },
      "execution_count": 3,
      "outputs": [
        {
          "output_type": "stream",
          "name": "stdout",
          "text": [
            "func1()에서 a 값 10\n",
            "func2()에서 a 값 20\n"
          ]
        }
      ]
    },
    {
      "cell_type": "markdown",
      "source": [
        "global 예약어\n",
        "- 함수 안에서 지역 변수 대신 전역 변수를 사용하고 싶은 경우가있다. global을 사용하면 이런 기능을 사용할 수 있다."
      ],
      "metadata": {
        "id": "EcaMTxU7WolI"
      }
    },
    {
      "cell_type": "code",
      "source": [
        "# 함수 선언 부분\n",
        "\n",
        "def func1():\n",
        "    global a # 이 함수 안에서는 a는 전역 변수\n",
        "    a = 10 # 지역 변수\n",
        "    print('func1()에서 a 값 %d' % a)\n",
        "\n",
        "def func2():\n",
        "    print('func2()에서 a 값 %d' % a)   \n",
        "\n",
        "# 전역 변수 선언\n",
        "a = 20 # 전역 변수\n",
        "\n",
        "# 메인코드\n",
        "\n",
        "func1()\n",
        "func2()"
      ],
      "metadata": {
        "colab": {
          "base_uri": "https://localhost:8080/"
        },
        "id": "juuiYH_4W1SJ",
        "outputId": "c1f4d9a6-5f22-4600-cae7-88bb5e79e663"
      },
      "execution_count": 4,
      "outputs": [
        {
          "output_type": "stream",
          "name": "stdout",
          "text": [
            "func1()에서 a 값 10\n",
            "func2()에서 a 값 10\n"
          ]
        }
      ]
    },
    {
      "cell_type": "markdown",
      "source": [
        "반환 값이 여러 개인 함수\n",
        "- 함수는 문법상 반환 값이 2개 이상일 수 없음에도 코드를 작성하다보면 2개 이상을 반환해야하는 경우가 있다. 이떄는 리스트에 반환한 값을 넣은 후 리스트를 반환하면 된다."
      ],
      "metadata": {
        "id": "rNnl8a8wXPqc"
      }
    },
    {
      "cell_type": "code",
      "source": [
        "# 함수 선언 부분\n",
        "def multi(v1, v2):\n",
        "    retList = [] # 반환할 리스트\n",
        "    res1 = v1 + v2\n",
        "    res2 = v1 - v2\n",
        "    retList.append(res1)\n",
        "    retList.append(res2)\n",
        "    return retList\n",
        "\n",
        "# 전역 변수 선언 부분\n",
        "\n",
        "myList = []\n",
        "hap, sub = 0, 0\n",
        "\n",
        "# 메인 코드 부분\n",
        "\n",
        "myList = multi(100, 200)\n",
        "hap = myList[0]\n",
        "sub = myList[1]\n",
        "print('Multi()에서 반환한 값 ==> %d %d' % (hap, sub))"
      ],
      "metadata": {
        "colab": {
          "base_uri": "https://localhost:8080/"
        },
        "id": "xDFDf_ZeXewu",
        "outputId": "a9cc2346-b882-471c-bf62-79d05fdb820b"
      },
      "execution_count": 5,
      "outputs": [
        {
          "output_type": "stream",
          "name": "stdout",
          "text": [
            "Multi()에서 반환한 값 ==> 300 -100\n"
          ]
        }
      ]
    },
    {
      "cell_type": "code",
      "source": [
        "# self study\n",
        "\n",
        "# 100과 20의 +, -, *, //, %, **이 출력되도록 하라\n",
        "\n",
        "\n",
        "# 함수 선언 부분\n",
        "def multi(v1, v2):\n",
        "#    retList = [] # 반환할 리스트\n",
        "    res1 = v1 + v2\n",
        "    res2 = v1 - v2\n",
        "    res3 = v1*v2\n",
        "    res4 = v1//v2\n",
        "    res5 = v1 % v2\n",
        "    res6 = v1**v2\n",
        "#    retList.append(res1)\n",
        "#    retList.append(res2)\n",
        "    return res1, res2, res3, res4, res5, res6\n",
        "\n",
        "# 전역 변수 선언 부분\n",
        "\n",
        "# myList = []\n",
        "더하기, 빼기, 곱하기, 몫, 나머지, 제곱 = multi(100, 200)\n",
        "\n",
        "# 메인 코드 부분\n",
        "\n",
        "# myList = multi(100, 200)\n",
        "#hap = myList[0]\n",
        "#sub = myList[1]\n",
        "print('Multi()에서 반환한 값 ==> %d %d %d %d %d %d' % (더하기, 빼기, 곱하기, 몫, 나머지, 제곱))"
      ],
      "metadata": {
        "colab": {
          "base_uri": "https://localhost:8080/"
        },
        "id": "mn4WWSv6YWQN",
        "outputId": "c24bea62-a709-440b-c106-dad91f9a4616"
      },
      "execution_count": 8,
      "outputs": [
        {
          "output_type": "stream",
          "name": "stdout",
          "text": [
            "Multi()에서 반환한 값 ==> 300 -100 20000 0 100 10000000000000000000000000000000000000000000000000000000000000000000000000000000000000000000000000000000000000000000000000000000000000000000000000000000000000000000000000000000000000000000000000000000000000000000000000000000000000000000000000000000000000000000000000000000000000000000000000000000000000000000000000000000000000000000000000000000000000000000000000000000000000000000000000000000000000000\n"
          ]
        }
      ]
    },
    {
      "cell_type": "markdown",
      "source": [
        "### Section 02 : 파이썬의 데이터형\n",
        "\n",
        "##### 1. 기본 데이터형\n",
        "- 파이썬에서 지원하는 데이터형은 기본형과 연속형으로 나눌 수 있다. 기본 데이터 형에는 리터럴, 볼, 숫자형 중 정수와 실수\n",
        "- 연속형은 데이터 모음으로, 변경이 가능한 가변형, 변경이 불가능 불변형이있다. 가변형에는 리스트, 딕셔너리, 세트 등이 있고, 불변형에는 문자열과 튜플이 있다.\n",
        "\n",
        "리터럴\n",
        "- 숫자, 문자열 등 상수 값을 직접 표기한 데이터\n",
        "\n",
        "불\n",
        "- 참 또는 거짓을 저장하여 사용\n",
        "\n",
        "숫자형\n",
        "- 정수와 실수 두 가지가 있다. 다른 프로그래밍 언에는 정수를 다양하게 표현하지만 파이썬에서 정수는 int 하나뿐이고 크기에도 제한이 없다."
      ],
      "metadata": {
        "id": "TfCIKE19Z8q7"
      }
    },
    {
      "cell_type": "code",
      "source": [
        "# bool 예시\n",
        "\n",
        "boolVar = 100 > 200\n",
        "boolVar\n",
        "type(boolVar)"
      ],
      "metadata": {
        "colab": {
          "base_uri": "https://localhost:8080/"
        },
        "id": "EWs5J_0VYnhV",
        "outputId": "770ee9a4-6783-4524-a247-79c2c7598409"
      },
      "execution_count": 11,
      "outputs": [
        {
          "output_type": "execute_result",
          "data": {
            "text/plain": [
              "bool"
            ]
          },
          "metadata": {},
          "execution_count": 11
        }
      ]
    },
    {
      "cell_type": "code",
      "source": [
        "# 숫자형 예시\n",
        "\n",
        "intVar = 100 ** 100\n",
        "intVar\n",
        "type(intVar)"
      ],
      "metadata": {
        "colab": {
          "base_uri": "https://localhost:8080/"
        },
        "id": "X1SdiSGCea-r",
        "outputId": "69b7d027-e28d-4019-b426-fbfdd7ae5359"
      },
      "execution_count": 12,
      "outputs": [
        {
          "output_type": "execute_result",
          "data": {
            "text/plain": [
              "int"
            ]
          },
          "metadata": {},
          "execution_count": 12
        }
      ]
    },
    {
      "cell_type": "code",
      "source": [
        "# 실수\n",
        "\n",
        "floatVar = 0.123123123123123\n",
        "floatVar\n",
        "type(floatVar)"
      ],
      "metadata": {
        "colab": {
          "base_uri": "https://localhost:8080/"
        },
        "id": "DnHk8aHvepG_",
        "outputId": "544566a5-6f57-4a92-a29e-418cd8e311e2"
      },
      "execution_count": 13,
      "outputs": [
        {
          "output_type": "execute_result",
          "data": {
            "text/plain": [
              "float"
            ]
          },
          "metadata": {},
          "execution_count": 13
        }
      ]
    },
    {
      "cell_type": "markdown",
      "source": [
        "##### 2. 리스트(가변형 데이터 형식)\n",
        "\n",
        "리스트의 개념\n",
        "- 변수를 배열로 만들어 놓은 것\n",
        "\n",
        "리스트 생성과 사용법\n",
        "- 리스트이름 = [변수 1, 변수 2, 변수3 ........]"
      ],
      "metadata": {
        "id": "BZhBSjdUexib"
      }
    },
    {
      "cell_type": "code",
      "source": [
        "# 리스트 만들기\n",
        "aa = [1,2,3,4]\n",
        "\n",
        "print(aa[0])"
      ],
      "metadata": {
        "colab": {
          "base_uri": "https://localhost:8080/"
        },
        "id": "HaM_tG9DfYgz",
        "outputId": "bc03442a-5e97-4028-cc0e-5b046116a22b"
      },
      "execution_count": 14,
      "outputs": [
        {
          "output_type": "stream",
          "name": "stdout",
          "text": [
            "1\n"
          ]
        }
      ]
    },
    {
      "cell_type": "markdown",
      "source": [
        "빈 리스트 생성과 항목 추가"
      ],
      "metadata": {
        "id": "NFLxZgLBfgkO"
      }
    },
    {
      "cell_type": "code",
      "source": [
        "aa = []\n",
        "\n",
        "for i in range(0, 100):\n",
        "    aa.append(i)\n",
        "\n",
        "len(aa)"
      ],
      "metadata": {
        "colab": {
          "base_uri": "https://localhost:8080/"
        },
        "id": "99m2u_4Cfiox",
        "outputId": "e5dcd062-fce2-45c7-aa3f-adb0c7ec0df7"
      },
      "execution_count": 16,
      "outputs": [
        {
          "output_type": "execute_result",
          "data": {
            "text/plain": [
              "100"
            ]
          },
          "metadata": {},
          "execution_count": 16
        }
      ]
    },
    {
      "cell_type": "code",
      "source": [
        "aa = []\n",
        "for i in range(0, 4):\n",
        "    aa.append(i)\n",
        "\n",
        "hap = 0\n",
        "\n",
        "for i in range(0, 4):\n",
        "    aa[i] = int(input(str(i + 1) + \"번째 숫자 :\"))\n",
        "\n",
        "hap = 0\n",
        "for i in range(0, 4):\n",
        "    hap = hap + aa[i]\n",
        "\n",
        "print('합계 ==> %d' % hap)"
      ],
      "metadata": {
        "colab": {
          "base_uri": "https://localhost:8080/"
        },
        "id": "BTWBPobcqxcR",
        "outputId": "020ac6b4-5e10-4e9c-9a67-0386ef33a0e1"
      },
      "execution_count": 20,
      "outputs": [
        {
          "output_type": "stream",
          "name": "stdout",
          "text": [
            "1번째 숫자 :1\n",
            "2번째 숫자 :2\n",
            "3번째 숫자 :3\n",
            "4번째 숫자 :4\n",
            "합계 ==> 10\n"
          ]
        }
      ]
    },
    {
      "cell_type": "markdown",
      "source": [
        "리스트 값에 접근하는 방법"
      ],
      "metadata": {
        "id": "6O2yy_69rczC"
      }
    },
    {
      "cell_type": "code",
      "source": [
        "aa = [1,2,3,4]\n",
        "\n",
        "print('aa[-1]은 %d, aa[-2]는 %d' % (aa[-1], aa[-2])) # -1은 맨 뒤에서 첫번째, -2는 맨 뒤에서 두번째"
      ],
      "metadata": {
        "colab": {
          "base_uri": "https://localhost:8080/"
        },
        "id": "HsdfH6rCre5s",
        "outputId": "80bb8588-7af3-4669-8b4d-aa434525a327"
      },
      "execution_count": 21,
      "outputs": [
        {
          "output_type": "stream",
          "name": "stdout",
          "text": [
            "aa[-1]은 4, aa[-2]는 3\n"
          ]
        }
      ]
    },
    {
      "cell_type": "code",
      "source": [
        "# 리스트 슬라이싱\n",
        "\n",
        "aa = [1,2,3,4]\n",
        "\n",
        "print(aa[0:3], aa[2:4])"
      ],
      "metadata": {
        "colab": {
          "base_uri": "https://localhost:8080/"
        },
        "id": "BPfuAUUTrw1Y",
        "outputId": "a2a06d40-ea10-4ac4-9f1c-ea20e3ff6dbf"
      },
      "execution_count": 22,
      "outputs": [
        {
          "output_type": "stream",
          "name": "stdout",
          "text": [
            "[1, 2, 3] [3, 4]\n"
          ]
        }
      ]
    },
    {
      "cell_type": "markdown",
      "source": [
        "리스트 조작 함수\n",
        "\n",
        "|함수|설명|사용법|\n",
        "|---|---|---|\n",
        "|append()|리스트 맨 뒤에 항목 추가한다.|리스트이름.append()|\n",
        "|pop()|리스트 맨 뒤의 항목을 빼낸다(리스트에서 해당 항목을 삭제한다.)|리스트이름.pop()|\n",
        "|sort()|리스트의 항목을 정렬한다.|리스트이름.sort()|\n",
        "|reverse()|리스트의 항목의 순서를 역순으로 만든다.|리스트이름.reverse()|\n",
        "|index()|지정한 위치에 값을 삽입한다.|리스트이름.index(찾을값)|\n",
        "|remove()|리스트에서 지정한 값을 제거한다. 단 지정한 값이 여러 개이면 첫 번째 값만 지운다.|리스트이름.(지울값)|\n",
        "|extend()|리스트 뒤에 리스트를 추가한다. 리스트의 더라기 연산과 기능이 동일하다.|리스트이름.extend(추가할 리스트)|\n",
        "|count()|리스트에서 해당 값의 개수를 센다.|리스트이름.count(찾을값)|\n",
        "|clear()|리스트 내용을 모두 지운다.|리스트이름.clear()|\n",
        "|dell()|리스트에서 해당 위치의 항목을 삭제한다.|del(리스트이름[위치])|\n",
        "|len()|리스트에 포함된 전체 항목의 개수를 센다.|len(리스트이름)|\n",
        "|copy()|리스트 내용을 새로운 리스트에 복사한다.|새리스트 = 리스트이름.copy()|\n",
        "|sorted()|리스트의 항목을 정렬해서 새로운 리스트에 대입한다.|새리스트 = sorted(리스트)|"
      ],
      "metadata": {
        "id": "5Y_h2f2zr7Xd"
      }
    },
    {
      "cell_type": "code",
      "source": [
        "# 리스트 조작 함수 사용해보기\n",
        "\n",
        "aa = [30, 10, 20]\n",
        "print('현재 리스트 : %s' % aa)\n",
        "\n",
        "aa.append(40)\n",
        "print('append(40) 후의 리스트 : %s' % aa)\n",
        "\n",
        "print('pop()으로 추출한 값 : %s' % aa.pop())\n",
        "print('pop() 루의 리스트 : %s' % aa)\n",
        "\n",
        "aa.sort()\n",
        "print('sort() 후의 리스트 : %s' % aa)\n",
        "\n",
        "aa.reverse()\n",
        "print('reverse() 후의 리스트 : %s' % aa)\n",
        "\n",
        "print('20 값의 위치 : %d' % aa.index(20))\n",
        "\n",
        "aa.insert(2, 222)\n",
        "print('insert(2, 222) 후의 리스트 : %s' % aa)\n",
        "\n",
        "aa.remove(222)\n",
        "print('remove(222) 후의 리스트 : %s' % aa)\n",
        "\n",
        "aa.extend([77, 88, 77])\n",
        "print('extend([77, 88, 77]) 후의 리스트 : %s' % aa)\n",
        "\n",
        "print('77 값의 개수 : %d' % aa.count(77))"
      ],
      "metadata": {
        "colab": {
          "base_uri": "https://localhost:8080/"
        },
        "id": "I16L6Inor7Ig",
        "outputId": "2beb8e8d-2645-47d0-f0ed-688f07e254d1"
      },
      "execution_count": 34,
      "outputs": [
        {
          "output_type": "stream",
          "name": "stdout",
          "text": [
            "현재 리스트 : [30, 10, 20]\n",
            "append(40) 후의 리스트 : [30, 10, 20, 40]\n",
            "pop()으로 추출한 값 : 40\n",
            "pop() 루의 리스트 : [30, 10, 20]\n",
            "sort() 후의 리스트 : [10, 20, 30]\n",
            "reverse() 후의 리스트 : [30, 20, 10]\n",
            "20 값의 위치 : 1\n",
            "insert(2, 222) 후의 리스트 : [30, 20, 222, 10]\n",
            "remove(222) 후의 리스트 : [30, 20, 10]\n",
            "extend([77, 88, 77]) 후의 리스트 : [30, 20, 10, 77, 88, 77]\n",
            "77 값의 개수 : 2\n"
          ]
        }
      ]
    },
    {
      "cell_type": "markdown",
      "source": [
        "2차원 리스트\n",
        "- 2차원 리스트는 1차원 리스트를 여러개 연결한 것으로 첨자를 2개 사용"
      ],
      "metadata": {
        "id": "2Xin4Ppfvbl2"
      }
    },
    {
      "cell_type": "code",
      "source": [
        "list1 = [] # 1차원 리스트  \n",
        "list2 = [] # 2차원 리스트\n",
        "value = 1 # 리스트에 입력할 값\n",
        "\n",
        "for i in range(0, 3): # 3행 짜리 2차원 리스트 생성\n",
        "    for k in range(0, 4):\n",
        "        list1.append(value)\n",
        "        value += 1\n",
        "    list2.append(list1)\n",
        "    list1 = []\n",
        "\n",
        "for i in range(0, 3): # 2차원 리스트 출력\n",
        "    for k in range(0, 4):\n",
        "        print('%3d' % list2[i][k], end = '') # 리스트이름[행][열]방식으로 각 항목으로 출력한다. end = ''는 print()함수가 행을 넘기지 않고 띄어쓰기 되도록 한다.\n",
        "    print(' ')\n"
      ],
      "metadata": {
        "colab": {
          "base_uri": "https://localhost:8080/"
        },
        "id": "vynJlfOdviMN",
        "outputId": "9abd4b32-85ca-4e38-90e2-abae65feedca"
      },
      "execution_count": 35,
      "outputs": [
        {
          "output_type": "stream",
          "name": "stdout",
          "text": [
            "  1  2  3  4 \n",
            "  5  6  7  8 \n",
            "  9 10 11 12 \n"
          ]
        }
      ]
    },
    {
      "cell_type": "code",
      "source": [
        "# self study\n",
        "\n",
        "# 4행 3열짜리 리스트를 생성한 후 12 ~ 1을 입력하고 출력해 보자. 추가로 배열의 모든 숫자 합계도 계산해 보자.\n",
        "\n",
        "list1 = [] # 1차원 리스트  \n",
        "list2 = [] # 2차원 리스트\n",
        "value = 12 # 리스트에 입력할 값\n",
        "\n",
        "for i in range(0, 4): # 4행 짜리 2차원 리스트 생성\n",
        "    for k in range(0, 3):\n",
        "        list1.append(value)\n",
        "        value -= 1\n",
        "    list2.append(list1)\n",
        "    list1 = []\n",
        "#    list2.reverse()\n",
        "\n",
        "for i in range(0, 4): # 2차원 리스트 출력\n",
        "    for k in range(0, 3):\n",
        "        print('%4d' % list2[i][k], end = '') # 리스트이름[행][열]방식으로 각 항목으로 출력한다. end = ''는 print()함수가 행을 넘기지 않고 띄어쓰기 되도록 한다.\n",
        "    print(' ')\n",
        "\n",
        "print('배열의 합계 ==> %d' % sum(list2[0] + list2[1] + list2[2] + list2[3]))"
      ],
      "metadata": {
        "colab": {
          "base_uri": "https://localhost:8080/"
        },
        "id": "n221GDWHwrw1",
        "outputId": "d037d9ca-cdbc-45d2-92f6-c7ab2179083c"
      },
      "execution_count": 70,
      "outputs": [
        {
          "output_type": "stream",
          "name": "stdout",
          "text": [
            "  12  11  10 \n",
            "   9   8   7 \n",
            "   6   5   4 \n",
            "   3   2   1 \n",
            "배열의 합계 ==> 78\n"
          ]
        }
      ]
    },
    {
      "cell_type": "markdown",
      "source": [
        "컴프리헨션\n",
        "- 컴프리헨션은 값이 순차적인 리스트를 한 줄로 만드는 간단한 방법\n",
        "- 리스트 = [수식 for 항목 in range() if 조건식] : 컴프리헨션의 기본적인 구성\n",
        "- 리스트 = [[수식 for 항목 in range()] for 항목 in range()] : 2차원 리스트 의 컴프리헨션 구성"
      ],
      "metadata": {
        "id": "BqNlnJ2IzZQ9"
      }
    },
    {
      "cell_type": "code",
      "source": [
        "# 기존 방법\n",
        "\n",
        "num = []\n",
        "for i in range(1, 6):\n",
        "    num.append(i)\n",
        "\n",
        "num"
      ],
      "metadata": {
        "colab": {
          "base_uri": "https://localhost:8080/"
        },
        "id": "pt_uxXm_zfZN",
        "outputId": "64fd576c-7b06-4c43-d086-e32e0ce623ed"
      },
      "execution_count": 71,
      "outputs": [
        {
          "output_type": "execute_result",
          "data": {
            "text/plain": [
              "[1, 2, 3, 4, 5]"
            ]
          },
          "metadata": {},
          "execution_count": 71
        }
      ]
    },
    {
      "cell_type": "code",
      "source": [
        "# 컴프리헨션 방법\n",
        "\n",
        "num = [num for num in range(1, 6)]\n",
        "num"
      ],
      "metadata": {
        "colab": {
          "base_uri": "https://localhost:8080/"
        },
        "id": "_ZaRQbHRzmfd",
        "outputId": "63b4fc49-dcbd-4c6a-9e8a-152e29a4cbf4"
      },
      "execution_count": 73,
      "outputs": [
        {
          "output_type": "execute_result",
          "data": {
            "text/plain": [
              "[1, 2, 3, 4, 5]"
            ]
          },
          "metadata": {},
          "execution_count": 73
        }
      ]
    },
    {
      "cell_type": "code",
      "source": [
        "# if문을 사용하는 컴프리헨션\n",
        "\n",
        "num = [num for num in range(1, 21) if num % 3 == 0]\n",
        "num"
      ],
      "metadata": {
        "colab": {
          "base_uri": "https://localhost:8080/"
        },
        "id": "IWKgtR-Qz8e9",
        "outputId": "3dc7ca3e-04e2-4ff6-a586-260fc323b4b0"
      },
      "execution_count": 74,
      "outputs": [
        {
          "output_type": "execute_result",
          "data": {
            "text/plain": [
              "[3, 6, 9, 12, 15, 18]"
            ]
          },
          "metadata": {},
          "execution_count": 74
        }
      ]
    },
    {
      "cell_type": "code",
      "source": [
        "# 2차원 리스트 컴프리헨션\n",
        "\n",
        "num2 = [[0 for _ in range(4)] for _ in range(3)]\n",
        "num2"
      ],
      "metadata": {
        "colab": {
          "base_uri": "https://localhost:8080/"
        },
        "id": "qzR1fzv60fsa",
        "outputId": "6a2eca78-9876-439a-f3b7-42b2dc8e10cf"
      },
      "execution_count": 76,
      "outputs": [
        {
          "output_type": "execute_result",
          "data": {
            "text/plain": [
              "[[0, 0, 0, 0], [0, 0, 0, 0], [0, 0, 0, 0]]"
            ]
          },
          "metadata": {},
          "execution_count": 76
        }
      ]
    },
    {
      "cell_type": "markdown",
      "source": [
        "#### 3. 딕셔너리(가변형 데이터 형식)\n",
        "- 딕셔너리는 쌍 2개가 하나로 묶인 구조이다.{}로 묶어 구성하며, key와 value의 쌍으로 구성되어 있다."
      ],
      "metadata": {
        "id": "FKsFwVxp0sMr"
      }
    },
    {
      "cell_type": "code",
      "source": [
        "# 딕셔너리 만들어보기\n",
        "\n",
        "student1 = {'학번' : 1000, '이름' : '홍길동', '학과' : '컴퓨터학과'}\n",
        "\n",
        "# 딕셔너리 내용 추가\n",
        "student1['연락처'] = '010-6669-2361'\n",
        "student1\n",
        "\n",
        "# 딕셔너리 값 변경하기\n",
        "student1['학과'] = '경제학과'\n",
        "student1 # 이미 존재하는 키를 사용하면 추가되는 것이 아니라 기존 값에 바뀐다.\n",
        "\n",
        "# 딕셔너리 값 삭제하기\n",
        "del(student1['학과'])\n",
        "student1\n",
        "\n",
        "# 딕셔너리 중복된 키를 사용한 경우\n",
        "\n",
        "student1 = {'학번' : 1000, '이름' : '홍길동', '학과' : '파이썬학과', '학번' : 2000}\n",
        "student1 # 마지막에 있는 키 값을 사용한다."
      ],
      "metadata": {
        "colab": {
          "base_uri": "https://localhost:8080/"
        },
        "id": "ZQkC8ewY05ga",
        "outputId": "a781e667-5435-436a-d4a0-70cd575c089a"
      },
      "execution_count": 84,
      "outputs": [
        {
          "output_type": "execute_result",
          "data": {
            "text/plain": [
              "{'학번': 2000, '이름': '홍길동', '학과': '파이썬학과'}"
            ]
          },
          "metadata": {},
          "execution_count": 84
        }
      ]
    },
    {
      "cell_type": "markdown",
      "source": [
        "딕셔너리 사용"
      ],
      "metadata": {
        "id": "RyYA6Mjj2TOr"
      }
    },
    {
      "cell_type": "code",
      "source": [
        "print(student1['학번'],student1['이름'],student1['학과'])"
      ],
      "metadata": {
        "colab": {
          "base_uri": "https://localhost:8080/"
        },
        "id": "8KleMxUU2Uxa",
        "outputId": "975c963f-6508-44b1-c67c-9dded1ffdabe"
      },
      "execution_count": 86,
      "outputs": [
        {
          "output_type": "stream",
          "name": "stdout",
          "text": [
            "2000 홍길동 파이썬학과\n"
          ]
        }
      ]
    },
    {
      "cell_type": "code",
      "source": [
        "# get(key)\n",
        "\n",
        "student1.get('이름')"
      ],
      "metadata": {
        "colab": {
          "base_uri": "https://localhost:8080/",
          "height": 35
        },
        "id": "6ITRqID-2f-q",
        "outputId": "ea74038d-322c-4a6a-b343-c172c7102e5b"
      },
      "execution_count": 87,
      "outputs": [
        {
          "output_type": "execute_result",
          "data": {
            "text/plain": [
              "'홍길동'"
            ],
            "application/vnd.google.colaboratory.intrinsic+json": {
              "type": "string"
            }
          },
          "metadata": {},
          "execution_count": 87
        }
      ]
    },
    {
      "cell_type": "code",
      "source": [
        "# 딕셔너리 key 호출\n",
        "\n",
        "student1.keys()\n",
        "\n",
        "# 리스트로 추출하기\n",
        "\n",
        "list(student1.keys())"
      ],
      "metadata": {
        "colab": {
          "base_uri": "https://localhost:8080/"
        },
        "id": "IFCEWWmd2pl-",
        "outputId": "cfa708c3-9a3e-4dc2-f324-070635739fa7"
      },
      "execution_count": 89,
      "outputs": [
        {
          "output_type": "execute_result",
          "data": {
            "text/plain": [
              "['학번', '이름', '학과']"
            ]
          },
          "metadata": {},
          "execution_count": 89
        }
      ]
    },
    {
      "cell_type": "code",
      "source": [
        "# 딕셔너리 value 추출\n",
        "\n",
        "student1.values()"
      ],
      "metadata": {
        "colab": {
          "base_uri": "https://localhost:8080/"
        },
        "id": "Vi_e24-F2zYQ",
        "outputId": "1ddc1fa3-1fbe-4e06-9e2e-a438695d5572"
      },
      "execution_count": 90,
      "outputs": [
        {
          "output_type": "execute_result",
          "data": {
            "text/plain": [
              "dict_values([2000, '홍길동', '파이썬학과'])"
            ]
          },
          "metadata": {},
          "execution_count": 90
        }
      ]
    },
    {
      "cell_type": "code",
      "source": [
        "# 딕셔너리 item 호출\n",
        "\n",
        "student1.items()"
      ],
      "metadata": {
        "colab": {
          "base_uri": "https://localhost:8080/"
        },
        "id": "MROao81W23Ki",
        "outputId": "2d3630f5-f6c5-401c-b1f9-f6364dc1d0c5"
      },
      "execution_count": 91,
      "outputs": [
        {
          "output_type": "execute_result",
          "data": {
            "text/plain": [
              "dict_items([('학번', 2000), ('이름', '홍길동'), ('학과', '파이썬학과')])"
            ]
          },
          "metadata": {},
          "execution_count": 91
        }
      ]
    },
    {
      "cell_type": "code",
      "source": [
        "# 딕셔너리 안에 해당 키가 있는지 없는지 확인\n",
        "\n",
        "print('이름' in student1, '주소' in student1)"
      ],
      "metadata": {
        "colab": {
          "base_uri": "https://localhost:8080/"
        },
        "id": "p4m5tE7n29qn",
        "outputId": "5fe74fcb-6518-4e72-8494-a26cd9641087"
      },
      "execution_count": 92,
      "outputs": [
        {
          "output_type": "stream",
          "name": "stdout",
          "text": [
            "True False\n"
          ]
        }
      ]
    },
    {
      "cell_type": "code",
      "source": [
        "# for문을 사용하여 딕셔너리 모든 값 출력하기\n",
        "\n",
        "singer = {}\n",
        "\n",
        "singer['이름'] = '트와이스'\n",
        "singer['구성원 수'] = 9\n",
        "singer['데뷔'] = '서바이벌 식스틴'\n",
        "singer['대표곡'] = 'Cheer Up'\n",
        "\n",
        "for k in singer.keys():\n",
        "    print('%s --> %s' % (k, singer[k]))\n",
        "\n",
        "singer"
      ],
      "metadata": {
        "colab": {
          "base_uri": "https://localhost:8080/"
        },
        "id": "miAyrKh13Lac",
        "outputId": "70b074ae-e07c-492d-b16b-a1d298c18c9c"
      },
      "execution_count": 95,
      "outputs": [
        {
          "output_type": "stream",
          "name": "stdout",
          "text": [
            "이름 --> 트와이스\n",
            "구성원 수 --> 9\n",
            "데뷔 --> 서바이벌 식스틴\n",
            "대표곡 --> Cheer Up\n"
          ]
        },
        {
          "output_type": "execute_result",
          "data": {
            "text/plain": [
              "{'이름': '트와이스', '구성원 수': 9, '데뷔': '서바이벌 식스틴', '대표곡': 'Cheer Up'}"
            ]
          },
          "metadata": {},
          "execution_count": 95
        }
      ]
    },
    {
      "cell_type": "markdown",
      "source": [
        "##### 4. 세트(가변형 데이터 형식)\n",
        "- 세트는 키만 모아 놓은 딕셔너리의 특수한 형태다. 딕셔너리는 키는 중복되면 안 되므로 세트에 들어 있는 값은 항상 유일하다."
      ],
      "metadata": {
        "id": "x-qmqYiK375C"
      }
    },
    {
      "cell_type": "code",
      "source": [
        "# set\n",
        "\n",
        "Set1 = {1,2,2,3,4}\n",
        "Set1"
      ],
      "metadata": {
        "colab": {
          "base_uri": "https://localhost:8080/"
        },
        "id": "YoIOoQRS4HMv",
        "outputId": "388a3341-bc40-412c-e7e9-00a403645a20"
      },
      "execution_count": 96,
      "outputs": [
        {
          "output_type": "execute_result",
          "data": {
            "text/plain": [
              "{1, 2, 3, 4}"
            ]
          },
          "metadata": {},
          "execution_count": 96
        }
      ]
    },
    {
      "cell_type": "code",
      "source": [
        "# Set 집합\n",
        "\n",
        "Set1 = {1,2,3,4,5}\n",
        "Set2 = {4,5,6,7}\n",
        "\n",
        "print(Set1 & Set2) # 교집합\n",
        "print(Set1 | Set2) # 합집합\n",
        "print(Set1 - Set2) # 차집합\n",
        "print(Set1 ^ Set2) # 대칭 차집합\n",
        "\n",
        "# 명령어를 사용한 Set 집합\n",
        "\n",
        "print(Set1.intersection(Set2))\n",
        "print(Set1.union(Set2))\n",
        "print(Set1.difference(Set2))\n",
        "print(Set1.symmetric_difference(Set2))"
      ],
      "metadata": {
        "colab": {
          "base_uri": "https://localhost:8080/"
        },
        "id": "_9McnbHV4PM9",
        "outputId": "4e7db7a3-efad-4a31-f937-e138b7be0067"
      },
      "execution_count": 100,
      "outputs": [
        {
          "output_type": "stream",
          "name": "stdout",
          "text": [
            "{4, 5}\n",
            "{1, 2, 3, 4, 5, 6, 7}\n",
            "{1, 2, 3}\n",
            "{1, 2, 3, 6, 7}\n",
            "{4, 5}\n",
            "{1, 2, 3, 4, 5, 6, 7}\n",
            "{1, 2, 3}\n",
            "{1, 2, 3, 6, 7}\n"
          ]
        }
      ]
    },
    {
      "cell_type": "markdown",
      "source": [
        "##### 5. 문자열(불변형 데이터 형식)"
      ],
      "metadata": {
        "id": "pLBJ_WMW49_J"
      }
    }
  ]
}